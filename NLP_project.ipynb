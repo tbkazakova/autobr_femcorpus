{
  "nbformat": 4,
  "nbformat_minor": 0,
  "metadata": {
    "colab": {
      "name": "NLP_project.ipynb",
      "provenance": [],
      "collapsed_sections": []
    },
    "kernelspec": {
      "display_name": "Python 3",
      "name": "python3"
    },
    "widgets": {
      "application/vnd.jupyter.widget-state+json": {
        "5df0d0eb79f744f4a2bbae00497383a7": {
          "model_module": "@jupyter-widgets/controls",
          "model_name": "HBoxModel",
          "state": {
            "_view_name": "HBoxView",
            "_dom_classes": [],
            "_model_name": "HBoxModel",
            "_view_module": "@jupyter-widgets/controls",
            "_model_module_version": "1.5.0",
            "_view_count": null,
            "_view_module_version": "1.5.0",
            "box_style": "",
            "layout": "IPY_MODEL_a69770db7b0a4be18aff42e62d5397a1",
            "_model_module": "@jupyter-widgets/controls",
            "children": [
              "IPY_MODEL_16d8092b38414f6ea0907475ff8aadec",
              "IPY_MODEL_f285ebc5aa664f888b020291080d7790"
            ]
          }
        },
        "a69770db7b0a4be18aff42e62d5397a1": {
          "model_module": "@jupyter-widgets/base",
          "model_name": "LayoutModel",
          "state": {
            "_view_name": "LayoutView",
            "grid_template_rows": null,
            "right": null,
            "justify_content": null,
            "_view_module": "@jupyter-widgets/base",
            "overflow": null,
            "_model_module_version": "1.2.0",
            "_view_count": null,
            "flex_flow": null,
            "width": null,
            "min_width": null,
            "border": null,
            "align_items": null,
            "bottom": null,
            "_model_module": "@jupyter-widgets/base",
            "top": null,
            "grid_column": null,
            "overflow_y": null,
            "overflow_x": null,
            "grid_auto_flow": null,
            "grid_area": null,
            "grid_template_columns": null,
            "flex": null,
            "_model_name": "LayoutModel",
            "justify_items": null,
            "grid_row": null,
            "max_height": null,
            "align_content": null,
            "visibility": null,
            "align_self": null,
            "height": null,
            "min_height": null,
            "padding": null,
            "grid_auto_rows": null,
            "grid_gap": null,
            "max_width": null,
            "order": null,
            "_view_module_version": "1.2.0",
            "grid_template_areas": null,
            "object_position": null,
            "object_fit": null,
            "grid_auto_columns": null,
            "margin": null,
            "display": null,
            "left": null
          }
        },
        "16d8092b38414f6ea0907475ff8aadec": {
          "model_module": "@jupyter-widgets/controls",
          "model_name": "FloatProgressModel",
          "state": {
            "_view_name": "ProgressView",
            "style": "IPY_MODEL_22a222f6dc434f19b24dd9f618f651c1",
            "_dom_classes": [],
            "description": "",
            "_model_name": "FloatProgressModel",
            "bar_style": "success",
            "max": 1,
            "_view_module": "@jupyter-widgets/controls",
            "_model_module_version": "1.5.0",
            "value": 1,
            "_view_count": null,
            "_view_module_version": "1.5.0",
            "orientation": "horizontal",
            "min": 0,
            "description_tooltip": null,
            "_model_module": "@jupyter-widgets/controls",
            "layout": "IPY_MODEL_bc24ea09d275439bb2bd47a86f06a3db"
          }
        },
        "f285ebc5aa664f888b020291080d7790": {
          "model_module": "@jupyter-widgets/controls",
          "model_name": "HTMLModel",
          "state": {
            "_view_name": "HTMLView",
            "style": "IPY_MODEL_c7d1f05e1ed74f9b8bd86995be24cded",
            "_dom_classes": [],
            "description": "",
            "_model_name": "HTMLModel",
            "placeholder": "​",
            "_view_module": "@jupyter-widgets/controls",
            "_model_module_version": "1.5.0",
            "value": " 3468/? [02:42&lt;00:00, 21.34it/s]",
            "_view_count": null,
            "_view_module_version": "1.5.0",
            "description_tooltip": null,
            "_model_module": "@jupyter-widgets/controls",
            "layout": "IPY_MODEL_b9b739d1a5244f9e8bb36c8ad7fe073a"
          }
        },
        "22a222f6dc434f19b24dd9f618f651c1": {
          "model_module": "@jupyter-widgets/controls",
          "model_name": "ProgressStyleModel",
          "state": {
            "_view_name": "StyleView",
            "_model_name": "ProgressStyleModel",
            "description_width": "initial",
            "_view_module": "@jupyter-widgets/base",
            "_model_module_version": "1.5.0",
            "_view_count": null,
            "_view_module_version": "1.2.0",
            "bar_color": null,
            "_model_module": "@jupyter-widgets/controls"
          }
        },
        "bc24ea09d275439bb2bd47a86f06a3db": {
          "model_module": "@jupyter-widgets/base",
          "model_name": "LayoutModel",
          "state": {
            "_view_name": "LayoutView",
            "grid_template_rows": null,
            "right": null,
            "justify_content": null,
            "_view_module": "@jupyter-widgets/base",
            "overflow": null,
            "_model_module_version": "1.2.0",
            "_view_count": null,
            "flex_flow": null,
            "width": null,
            "min_width": null,
            "border": null,
            "align_items": null,
            "bottom": null,
            "_model_module": "@jupyter-widgets/base",
            "top": null,
            "grid_column": null,
            "overflow_y": null,
            "overflow_x": null,
            "grid_auto_flow": null,
            "grid_area": null,
            "grid_template_columns": null,
            "flex": null,
            "_model_name": "LayoutModel",
            "justify_items": null,
            "grid_row": null,
            "max_height": null,
            "align_content": null,
            "visibility": null,
            "align_self": null,
            "height": null,
            "min_height": null,
            "padding": null,
            "grid_auto_rows": null,
            "grid_gap": null,
            "max_width": null,
            "order": null,
            "_view_module_version": "1.2.0",
            "grid_template_areas": null,
            "object_position": null,
            "object_fit": null,
            "grid_auto_columns": null,
            "margin": null,
            "display": null,
            "left": null
          }
        },
        "c7d1f05e1ed74f9b8bd86995be24cded": {
          "model_module": "@jupyter-widgets/controls",
          "model_name": "DescriptionStyleModel",
          "state": {
            "_view_name": "StyleView",
            "_model_name": "DescriptionStyleModel",
            "description_width": "",
            "_view_module": "@jupyter-widgets/base",
            "_model_module_version": "1.5.0",
            "_view_count": null,
            "_view_module_version": "1.2.0",
            "_model_module": "@jupyter-widgets/controls"
          }
        },
        "b9b739d1a5244f9e8bb36c8ad7fe073a": {
          "model_module": "@jupyter-widgets/base",
          "model_name": "LayoutModel",
          "state": {
            "_view_name": "LayoutView",
            "grid_template_rows": null,
            "right": null,
            "justify_content": null,
            "_view_module": "@jupyter-widgets/base",
            "overflow": null,
            "_model_module_version": "1.2.0",
            "_view_count": null,
            "flex_flow": null,
            "width": null,
            "min_width": null,
            "border": null,
            "align_items": null,
            "bottom": null,
            "_model_module": "@jupyter-widgets/base",
            "top": null,
            "grid_column": null,
            "overflow_y": null,
            "overflow_x": null,
            "grid_auto_flow": null,
            "grid_area": null,
            "grid_template_columns": null,
            "flex": null,
            "_model_name": "LayoutModel",
            "justify_items": null,
            "grid_row": null,
            "max_height": null,
            "align_content": null,
            "visibility": null,
            "align_self": null,
            "height": null,
            "min_height": null,
            "padding": null,
            "grid_auto_rows": null,
            "grid_gap": null,
            "max_width": null,
            "order": null,
            "_view_module_version": "1.2.0",
            "grid_template_areas": null,
            "object_position": null,
            "object_fit": null,
            "grid_auto_columns": null,
            "margin": null,
            "display": null,
            "left": null
          }
        },
        "4f7a1bcfedff4c15bc0d5d1dc2735413": {
          "model_module": "@jupyter-widgets/controls",
          "model_name": "HBoxModel",
          "state": {
            "_view_name": "HBoxView",
            "_dom_classes": [],
            "_model_name": "HBoxModel",
            "_view_module": "@jupyter-widgets/controls",
            "_model_module_version": "1.5.0",
            "_view_count": null,
            "_view_module_version": "1.5.0",
            "box_style": "",
            "layout": "IPY_MODEL_6008b4f437ad434e8b59b2303cc75aed",
            "_model_module": "@jupyter-widgets/controls",
            "children": [
              "IPY_MODEL_d46149cda5b149e3bc03276ae0ae726f",
              "IPY_MODEL_73dca4a0db6c4da1905db19664e69c62"
            ]
          }
        },
        "6008b4f437ad434e8b59b2303cc75aed": {
          "model_module": "@jupyter-widgets/base",
          "model_name": "LayoutModel",
          "state": {
            "_view_name": "LayoutView",
            "grid_template_rows": null,
            "right": null,
            "justify_content": null,
            "_view_module": "@jupyter-widgets/base",
            "overflow": null,
            "_model_module_version": "1.2.0",
            "_view_count": null,
            "flex_flow": null,
            "width": null,
            "min_width": null,
            "border": null,
            "align_items": null,
            "bottom": null,
            "_model_module": "@jupyter-widgets/base",
            "top": null,
            "grid_column": null,
            "overflow_y": null,
            "overflow_x": null,
            "grid_auto_flow": null,
            "grid_area": null,
            "grid_template_columns": null,
            "flex": null,
            "_model_name": "LayoutModel",
            "justify_items": null,
            "grid_row": null,
            "max_height": null,
            "align_content": null,
            "visibility": null,
            "align_self": null,
            "height": null,
            "min_height": null,
            "padding": null,
            "grid_auto_rows": null,
            "grid_gap": null,
            "max_width": null,
            "order": null,
            "_view_module_version": "1.2.0",
            "grid_template_areas": null,
            "object_position": null,
            "object_fit": null,
            "grid_auto_columns": null,
            "margin": null,
            "display": null,
            "left": null
          }
        },
        "d46149cda5b149e3bc03276ae0ae726f": {
          "model_module": "@jupyter-widgets/controls",
          "model_name": "FloatProgressModel",
          "state": {
            "_view_name": "ProgressView",
            "style": "IPY_MODEL_cadb32fb8a4948a08e1372ff344dd8eb",
            "_dom_classes": [],
            "description": "",
            "_model_name": "FloatProgressModel",
            "bar_style": "success",
            "max": 1,
            "_view_module": "@jupyter-widgets/controls",
            "_model_module_version": "1.5.0",
            "value": 1,
            "_view_count": null,
            "_view_module_version": "1.5.0",
            "orientation": "horizontal",
            "min": 0,
            "description_tooltip": null,
            "_model_module": "@jupyter-widgets/controls",
            "layout": "IPY_MODEL_8b80687eb11a40bab7d778043e57caf8"
          }
        },
        "73dca4a0db6c4da1905db19664e69c62": {
          "model_module": "@jupyter-widgets/controls",
          "model_name": "HTMLModel",
          "state": {
            "_view_name": "HTMLView",
            "style": "IPY_MODEL_72dd651468344e0d9930aa519bedd5a2",
            "_dom_classes": [],
            "description": "",
            "_model_name": "HTMLModel",
            "placeholder": "​",
            "_view_module": "@jupyter-widgets/controls",
            "_model_module_version": "1.5.0",
            "value": " 3468/? [12:30&lt;00:00,  4.62it/s]",
            "_view_count": null,
            "_view_module_version": "1.5.0",
            "description_tooltip": null,
            "_model_module": "@jupyter-widgets/controls",
            "layout": "IPY_MODEL_d582ea2cbf7e404d848a2e0221095717"
          }
        },
        "cadb32fb8a4948a08e1372ff344dd8eb": {
          "model_module": "@jupyter-widgets/controls",
          "model_name": "ProgressStyleModel",
          "state": {
            "_view_name": "StyleView",
            "_model_name": "ProgressStyleModel",
            "description_width": "initial",
            "_view_module": "@jupyter-widgets/base",
            "_model_module_version": "1.5.0",
            "_view_count": null,
            "_view_module_version": "1.2.0",
            "bar_color": null,
            "_model_module": "@jupyter-widgets/controls"
          }
        },
        "8b80687eb11a40bab7d778043e57caf8": {
          "model_module": "@jupyter-widgets/base",
          "model_name": "LayoutModel",
          "state": {
            "_view_name": "LayoutView",
            "grid_template_rows": null,
            "right": null,
            "justify_content": null,
            "_view_module": "@jupyter-widgets/base",
            "overflow": null,
            "_model_module_version": "1.2.0",
            "_view_count": null,
            "flex_flow": null,
            "width": null,
            "min_width": null,
            "border": null,
            "align_items": null,
            "bottom": null,
            "_model_module": "@jupyter-widgets/base",
            "top": null,
            "grid_column": null,
            "overflow_y": null,
            "overflow_x": null,
            "grid_auto_flow": null,
            "grid_area": null,
            "grid_template_columns": null,
            "flex": null,
            "_model_name": "LayoutModel",
            "justify_items": null,
            "grid_row": null,
            "max_height": null,
            "align_content": null,
            "visibility": null,
            "align_self": null,
            "height": null,
            "min_height": null,
            "padding": null,
            "grid_auto_rows": null,
            "grid_gap": null,
            "max_width": null,
            "order": null,
            "_view_module_version": "1.2.0",
            "grid_template_areas": null,
            "object_position": null,
            "object_fit": null,
            "grid_auto_columns": null,
            "margin": null,
            "display": null,
            "left": null
          }
        },
        "72dd651468344e0d9930aa519bedd5a2": {
          "model_module": "@jupyter-widgets/controls",
          "model_name": "DescriptionStyleModel",
          "state": {
            "_view_name": "StyleView",
            "_model_name": "DescriptionStyleModel",
            "description_width": "",
            "_view_module": "@jupyter-widgets/base",
            "_model_module_version": "1.5.0",
            "_view_count": null,
            "_view_module_version": "1.2.0",
            "_model_module": "@jupyter-widgets/controls"
          }
        },
        "d582ea2cbf7e404d848a2e0221095717": {
          "model_module": "@jupyter-widgets/base",
          "model_name": "LayoutModel",
          "state": {
            "_view_name": "LayoutView",
            "grid_template_rows": null,
            "right": null,
            "justify_content": null,
            "_view_module": "@jupyter-widgets/base",
            "overflow": null,
            "_model_module_version": "1.2.0",
            "_view_count": null,
            "flex_flow": null,
            "width": null,
            "min_width": null,
            "border": null,
            "align_items": null,
            "bottom": null,
            "_model_module": "@jupyter-widgets/base",
            "top": null,
            "grid_column": null,
            "overflow_y": null,
            "overflow_x": null,
            "grid_auto_flow": null,
            "grid_area": null,
            "grid_template_columns": null,
            "flex": null,
            "_model_name": "LayoutModel",
            "justify_items": null,
            "grid_row": null,
            "max_height": null,
            "align_content": null,
            "visibility": null,
            "align_self": null,
            "height": null,
            "min_height": null,
            "padding": null,
            "grid_auto_rows": null,
            "grid_gap": null,
            "max_width": null,
            "order": null,
            "_view_module_version": "1.2.0",
            "grid_template_areas": null,
            "object_position": null,
            "object_fit": null,
            "grid_auto_columns": null,
            "margin": null,
            "display": null,
            "left": null
          }
        },
        "a85919e72b2e4061935a5663f4a81dfc": {
          "model_module": "@jupyter-widgets/controls",
          "model_name": "HBoxModel",
          "state": {
            "_view_name": "HBoxView",
            "_dom_classes": [],
            "_model_name": "HBoxModel",
            "_view_module": "@jupyter-widgets/controls",
            "_model_module_version": "1.5.0",
            "_view_count": null,
            "_view_module_version": "1.5.0",
            "box_style": "",
            "layout": "IPY_MODEL_722ac459f505424a9a055b94dddc2cdd",
            "_model_module": "@jupyter-widgets/controls",
            "children": [
              "IPY_MODEL_906c9af687494706b272edd4b3a654f4",
              "IPY_MODEL_f06695d7400945cd90dfe98f5d141d9d"
            ]
          }
        },
        "722ac459f505424a9a055b94dddc2cdd": {
          "model_module": "@jupyter-widgets/base",
          "model_name": "LayoutModel",
          "state": {
            "_view_name": "LayoutView",
            "grid_template_rows": null,
            "right": null,
            "justify_content": null,
            "_view_module": "@jupyter-widgets/base",
            "overflow": null,
            "_model_module_version": "1.2.0",
            "_view_count": null,
            "flex_flow": null,
            "width": null,
            "min_width": null,
            "border": null,
            "align_items": null,
            "bottom": null,
            "_model_module": "@jupyter-widgets/base",
            "top": null,
            "grid_column": null,
            "overflow_y": null,
            "overflow_x": null,
            "grid_auto_flow": null,
            "grid_area": null,
            "grid_template_columns": null,
            "flex": null,
            "_model_name": "LayoutModel",
            "justify_items": null,
            "grid_row": null,
            "max_height": null,
            "align_content": null,
            "visibility": null,
            "align_self": null,
            "height": null,
            "min_height": null,
            "padding": null,
            "grid_auto_rows": null,
            "grid_gap": null,
            "max_width": null,
            "order": null,
            "_view_module_version": "1.2.0",
            "grid_template_areas": null,
            "object_position": null,
            "object_fit": null,
            "grid_auto_columns": null,
            "margin": null,
            "display": null,
            "left": null
          }
        },
        "906c9af687494706b272edd4b3a654f4": {
          "model_module": "@jupyter-widgets/controls",
          "model_name": "FloatProgressModel",
          "state": {
            "_view_name": "ProgressView",
            "style": "IPY_MODEL_757359bec7244637aa3af7b47daf7723",
            "_dom_classes": [],
            "description": "",
            "_model_name": "FloatProgressModel",
            "bar_style": "success",
            "max": 1,
            "_view_module": "@jupyter-widgets/controls",
            "_model_module_version": "1.5.0",
            "value": 1,
            "_view_count": null,
            "_view_module_version": "1.5.0",
            "orientation": "horizontal",
            "min": 0,
            "description_tooltip": null,
            "_model_module": "@jupyter-widgets/controls",
            "layout": "IPY_MODEL_02d255f66c07433d9a9e18160502b05e"
          }
        },
        "f06695d7400945cd90dfe98f5d141d9d": {
          "model_module": "@jupyter-widgets/controls",
          "model_name": "HTMLModel",
          "state": {
            "_view_name": "HTMLView",
            "style": "IPY_MODEL_c64562985f9047f39b3d65027c8e0d26",
            "_dom_classes": [],
            "description": "",
            "_model_name": "HTMLModel",
            "placeholder": "​",
            "_view_module": "@jupyter-widgets/controls",
            "_model_module_version": "1.5.0",
            "value": " 3468/? [53:32&lt;00:00,  1.08it/s]",
            "_view_count": null,
            "_view_module_version": "1.5.0",
            "description_tooltip": null,
            "_model_module": "@jupyter-widgets/controls",
            "layout": "IPY_MODEL_69d35b6dabe74732b1de168671e9f6c1"
          }
        },
        "757359bec7244637aa3af7b47daf7723": {
          "model_module": "@jupyter-widgets/controls",
          "model_name": "ProgressStyleModel",
          "state": {
            "_view_name": "StyleView",
            "_model_name": "ProgressStyleModel",
            "description_width": "initial",
            "_view_module": "@jupyter-widgets/base",
            "_model_module_version": "1.5.0",
            "_view_count": null,
            "_view_module_version": "1.2.0",
            "bar_color": null,
            "_model_module": "@jupyter-widgets/controls"
          }
        },
        "02d255f66c07433d9a9e18160502b05e": {
          "model_module": "@jupyter-widgets/base",
          "model_name": "LayoutModel",
          "state": {
            "_view_name": "LayoutView",
            "grid_template_rows": null,
            "right": null,
            "justify_content": null,
            "_view_module": "@jupyter-widgets/base",
            "overflow": null,
            "_model_module_version": "1.2.0",
            "_view_count": null,
            "flex_flow": null,
            "width": null,
            "min_width": null,
            "border": null,
            "align_items": null,
            "bottom": null,
            "_model_module": "@jupyter-widgets/base",
            "top": null,
            "grid_column": null,
            "overflow_y": null,
            "overflow_x": null,
            "grid_auto_flow": null,
            "grid_area": null,
            "grid_template_columns": null,
            "flex": null,
            "_model_name": "LayoutModel",
            "justify_items": null,
            "grid_row": null,
            "max_height": null,
            "align_content": null,
            "visibility": null,
            "align_self": null,
            "height": null,
            "min_height": null,
            "padding": null,
            "grid_auto_rows": null,
            "grid_gap": null,
            "max_width": null,
            "order": null,
            "_view_module_version": "1.2.0",
            "grid_template_areas": null,
            "object_position": null,
            "object_fit": null,
            "grid_auto_columns": null,
            "margin": null,
            "display": null,
            "left": null
          }
        },
        "c64562985f9047f39b3d65027c8e0d26": {
          "model_module": "@jupyter-widgets/controls",
          "model_name": "DescriptionStyleModel",
          "state": {
            "_view_name": "StyleView",
            "_model_name": "DescriptionStyleModel",
            "description_width": "",
            "_view_module": "@jupyter-widgets/base",
            "_model_module_version": "1.5.0",
            "_view_count": null,
            "_view_module_version": "1.2.0",
            "_model_module": "@jupyter-widgets/controls"
          }
        },
        "69d35b6dabe74732b1de168671e9f6c1": {
          "model_module": "@jupyter-widgets/base",
          "model_name": "LayoutModel",
          "state": {
            "_view_name": "LayoutView",
            "grid_template_rows": null,
            "right": null,
            "justify_content": null,
            "_view_module": "@jupyter-widgets/base",
            "overflow": null,
            "_model_module_version": "1.2.0",
            "_view_count": null,
            "flex_flow": null,
            "width": null,
            "min_width": null,
            "border": null,
            "align_items": null,
            "bottom": null,
            "_model_module": "@jupyter-widgets/base",
            "top": null,
            "grid_column": null,
            "overflow_y": null,
            "overflow_x": null,
            "grid_auto_flow": null,
            "grid_area": null,
            "grid_template_columns": null,
            "flex": null,
            "_model_name": "LayoutModel",
            "justify_items": null,
            "grid_row": null,
            "max_height": null,
            "align_content": null,
            "visibility": null,
            "align_self": null,
            "height": null,
            "min_height": null,
            "padding": null,
            "grid_auto_rows": null,
            "grid_gap": null,
            "max_width": null,
            "order": null,
            "_view_module_version": "1.2.0",
            "grid_template_areas": null,
            "object_position": null,
            "object_fit": null,
            "grid_auto_columns": null,
            "margin": null,
            "display": null,
            "left": null
          }
        }
      }
    }
  },
  "cells": [
    {
      "cell_type": "markdown",
      "metadata": {
        "id": "fL0YntyUDGtl"
      },
      "source": [
        "# Итоговый проект по курсу Автоматическая Обработка Естественного Языка\n",
        "#### Выполнили: Женя Егорова, Таня Казакова, Ксюша Кошкина, Настя Чижикова\n",
        "\n",
        "Корпус текстов собран из постов в пабликах Вконтакте, посвященных феминизму. Тексты выкачаны с помощью VK Api, на начальном этапе взято больше 100 постов длиной не менее 100 слов."
      ]
    },
    {
      "cell_type": "markdown",
      "metadata": {
        "id": "6FNwrbpGQ8Ti"
      },
      "source": [
        "Паблики: https://vk.com/socfem, https://vk.com/radfemtranslations"
      ]
    },
    {
      "cell_type": "code",
      "metadata": {
        "id": "Ws1fRNIwYaH2",
        "outputId": "f5a76d3a-37b8-491a-b97f-66d4d9add27f",
        "colab": {
          "base_uri": "https://localhost:8080/",
          "height": 245
        }
      },
      "source": [
        "pip install natasha"
      ],
      "execution_count": null,
      "outputs": [
        {
          "output_type": "stream",
          "text": [
            "Requirement already satisfied: natasha in /usr/local/lib/python3.6/dist-packages (1.3.0)\n",
            "Requirement already satisfied: pymorphy2 in /usr/local/lib/python3.6/dist-packages (from natasha) (0.9.1)\n",
            "Requirement already satisfied: yargy>=0.14.0 in /usr/local/lib/python3.6/dist-packages (from natasha) (0.14.0)\n",
            "Requirement already satisfied: ipymarkup>=0.8.0 in /usr/local/lib/python3.6/dist-packages (from natasha) (0.9.0)\n",
            "Requirement already satisfied: navec>=0.9.0 in /usr/local/lib/python3.6/dist-packages (from natasha) (0.9.0)\n",
            "Requirement already satisfied: slovnet>=0.3.0 in /usr/local/lib/python3.6/dist-packages (from natasha) (0.4.0)\n",
            "Requirement already satisfied: razdel>=0.5.0 in /usr/local/lib/python3.6/dist-packages (from natasha) (0.5.0)\n",
            "Requirement already satisfied: dawg-python>=0.7.1 in /usr/local/lib/python3.6/dist-packages (from pymorphy2->natasha) (0.7.2)\n",
            "Requirement already satisfied: pymorphy2-dicts-ru<3.0,>=2.4 in /usr/local/lib/python3.6/dist-packages (from pymorphy2->natasha) (2.4.417127.4579844)\n",
            "Requirement already satisfied: docopt>=0.6 in /usr/local/lib/python3.6/dist-packages (from pymorphy2->natasha) (0.6.2)\n",
            "Requirement already satisfied: intervaltree>=3 in /usr/local/lib/python3.6/dist-packages (from ipymarkup>=0.8.0->natasha) (3.1.0)\n",
            "Requirement already satisfied: numpy in /usr/local/lib/python3.6/dist-packages (from navec>=0.9.0->natasha) (1.18.5)\n",
            "Requirement already satisfied: sortedcontainers<3.0,>=2.0 in /usr/local/lib/python3.6/dist-packages (from intervaltree>=3->ipymarkup>=0.8.0->natasha) (2.2.2)\n"
          ],
          "name": "stdout"
        }
      ]
    },
    {
      "cell_type": "code",
      "metadata": {
        "id": "C8XloLiRWC37"
      },
      "source": [
        "from natasha import (\n",
        "    Segmenter,\n",
        "    MorphVocab,\n",
        "    \n",
        "    NewsEmbedding,\n",
        "    NewsMorphTagger,\n",
        "    NewsSyntaxParser,\n",
        "    NewsNERTagger,\n",
        "    \n",
        "    PER,\n",
        "    NamesExtractor,\n",
        "\n",
        "    Doc\n",
        ")\n",
        "import re"
      ],
      "execution_count": null,
      "outputs": []
    },
    {
      "cell_type": "code",
      "metadata": {
        "id": "vWitl9pO5mAo",
        "outputId": "fae630f6-c23f-47cb-a2ed-c9302a8755c5",
        "colab": {
          "base_uri": "https://localhost:8080/",
          "height": 87
        }
      },
      "source": [
        "pip install pymorphy2"
      ],
      "execution_count": null,
      "outputs": [
        {
          "output_type": "stream",
          "text": [
            "Requirement already satisfied: pymorphy2 in /usr/local/lib/python3.6/dist-packages (0.9.1)\n",
            "Requirement already satisfied: dawg-python>=0.7.1 in /usr/local/lib/python3.6/dist-packages (from pymorphy2) (0.7.2)\n",
            "Requirement already satisfied: docopt>=0.6 in /usr/local/lib/python3.6/dist-packages (from pymorphy2) (0.6.2)\n",
            "Requirement already satisfied: pymorphy2-dicts-ru<3.0,>=2.4 in /usr/local/lib/python3.6/dist-packages (from pymorphy2) (2.4.417127.4579844)\n"
          ],
          "name": "stdout"
        }
      ]
    },
    {
      "cell_type": "code",
      "metadata": {
        "id": "JFjP8d1994Hr",
        "outputId": "69743ddb-955f-4364-d779-bb6b29ef0eeb",
        "colab": {
          "base_uri": "https://localhost:8080/",
          "height": 52
        }
      },
      "source": [
        "pip install nltk"
      ],
      "execution_count": null,
      "outputs": [
        {
          "output_type": "stream",
          "text": [
            "Requirement already satisfied: nltk in /usr/local/lib/python3.6/dist-packages (3.2.5)\n",
            "Requirement already satisfied: six in /usr/local/lib/python3.6/dist-packages (from nltk) (1.15.0)\n"
          ],
          "name": "stdout"
        }
      ]
    },
    {
      "cell_type": "code",
      "metadata": {
        "id": "REt7mNFQ1RJY",
        "outputId": "4f235432-e06f-40e0-9753-57fd87c93920",
        "colab": {
          "base_uri": "https://localhost:8080/",
          "height": 35
        }
      },
      "source": [
        "pip install razdel"
      ],
      "execution_count": null,
      "outputs": [
        {
          "output_type": "stream",
          "text": [
            "Requirement already satisfied: razdel in /usr/local/lib/python3.6/dist-packages (0.5.0)\n"
          ],
          "name": "stdout"
        }
      ]
    },
    {
      "cell_type": "code",
      "metadata": {
        "id": "oJWPGPLL1WYP",
        "outputId": "b41a0587-9677-46a8-b08d-e27f8cabe3ba",
        "colab": {
          "base_uri": "https://localhost:8080/",
          "height": 87
        }
      },
      "source": [
        "pip install pymorphy2"
      ],
      "execution_count": null,
      "outputs": [
        {
          "output_type": "stream",
          "text": [
            "Requirement already satisfied: pymorphy2 in /usr/local/lib/python3.6/dist-packages (0.9.1)\n",
            "Requirement already satisfied: dawg-python>=0.7.1 in /usr/local/lib/python3.6/dist-packages (from pymorphy2) (0.7.2)\n",
            "Requirement already satisfied: pymorphy2-dicts-ru<3.0,>=2.4 in /usr/local/lib/python3.6/dist-packages (from pymorphy2) (2.4.417127.4579844)\n",
            "Requirement already satisfied: docopt>=0.6 in /usr/local/lib/python3.6/dist-packages (from pymorphy2) (0.6.2)\n"
          ],
          "name": "stdout"
        }
      ]
    },
    {
      "cell_type": "code",
      "metadata": {
        "id": "Ck1OgTMI5OnD",
        "outputId": "adfb22d5-6689-4256-e0f9-a614974fe77e",
        "colab": {
          "base_uri": "https://localhost:8080/",
          "height": 52
        }
      },
      "source": [
        "import nltk\n",
        "nltk.download('punkt')\n",
        "from nltk.tokenize import word_tokenize\n",
        "import pandas as pd\n",
        "from razdel import tokenize, sentenize\n",
        "from string import punctuation\n",
        "from pymorphy2 import MorphAnalyzer\n",
        "morph = MorphAnalyzer()\n",
        "import re\n",
        "import numpy as np"
      ],
      "execution_count": null,
      "outputs": [
        {
          "output_type": "stream",
          "text": [
            "[nltk_data] Downloading package punkt to /root/nltk_data...\n",
            "[nltk_data]   Package punkt is already up-to-date!\n"
          ],
          "name": "stdout"
        }
      ]
    },
    {
      "cell_type": "markdown",
      "metadata": {
        "id": "rcAL-XBuWAwu"
      },
      "source": [
        "Код для выкачивания постов vk. Вам нужно обновить токен. Или пропустить эти шаги и воспользоваться скачанными из файла sentences.tsv."
      ]
    },
    {
      "cell_type": "code",
      "metadata": {
        "id": "UYw3OJ8wECwv"
      },
      "source": [
        "TOKEN = '2030e8202030e8202030e820cf2041e16f220302030e8207ea4b43071db099fb761cad2'\n",
        "groups = [-182023900, -46661081]"
      ],
      "execution_count": null,
      "outputs": []
    },
    {
      "cell_type": "code",
      "metadata": {
        "id": "Mw6cjQxEEEa0"
      },
      "source": [
        "posts = []\n",
        "for group_id in groups:\n",
        "  data = requests.get(\n",
        "      'https://api.vk.com/method/wall.get', \n",
        "       params={\n",
        "            \"owner_id\": group_id,\n",
        "            \"count\": 100,\n",
        "            \"v\":\"5.92\",\n",
        "            \"access_token\": TOKEN\n",
        "            }\n",
        "      ).json()\n",
        "  group_posts = data['response']['items']\n",
        "\n",
        "  '''Метаинформация для каждого поста: \n",
        "  паблик, дата публикации и id поста, чтобы не потерять впоследствии\n",
        "  отдельные предложения\n",
        "  '''\n",
        "\n",
        "  for p in group_posts:\n",
        "    if len(p['text'].split()) > 99:\n",
        "      post_url = f\"https://vk.com/public{group_id * -1}?w=wall{group_id}_{p['id']}\"\n",
        "      post_text = p['text']\n",
        "      date = str(datetime.fromtimestamp(p['date']))\n",
        "\n",
        "      sentences_list = [_.text for _ in list(sentenize(post_text)) if not _.text.startswith('#') ]\n",
        "      for sent in sentences_list:\n",
        "        posts.append((post_url, date, sent.replace('\\n', ' ')))  "
      ],
      "execution_count": null,
      "outputs": []
    },
    {
      "cell_type": "code",
      "metadata": {
        "id": "CHnpsmX2QfJj",
        "outputId": "31e3dbdd-a50f-4e4f-b58b-a8e6cf9fc093",
        "colab": {
          "base_uri": "https://localhost:8080/",
          "height": 35
        }
      },
      "source": [
        "len(posts)"
      ],
      "execution_count": null,
      "outputs": [
        {
          "output_type": "execute_result",
          "data": {
            "text/plain": [
              "3468"
            ]
          },
          "metadata": {
            "tags": []
          },
          "execution_count": 38
        }
      ]
    },
    {
      "cell_type": "markdown",
      "metadata": {
        "id": "bqyX7V9xPizL"
      },
      "source": [
        "Сохраняем в tsv-файл (вам не надо)"
      ]
    },
    {
      "cell_type": "code",
      "metadata": {
        "id": "p7ZmZQ0ePiI-",
        "outputId": "ab1c5feb-5f19-4269-b52a-f5834218f2bd",
        "colab": {
          "base_uri": "https://localhost:8080/",
          "height": 17
        }
      },
      "source": [
        "'''from google.colab import files\n",
        "\n",
        "with open('sentences.tsv', 'w', encoding='utf-8') as f:\n",
        "  for p in posts:\n",
        "    f.write('\\t'.join(p) + '\\n')\n",
        "\n",
        "files.download('sentences.tsv')'''"
      ],
      "execution_count": null,
      "outputs": [
        {
          "output_type": "display_data",
          "data": {
            "application/javascript": [
              "\n",
              "    async function download(id, filename, size) {\n",
              "      if (!google.colab.kernel.accessAllowed) {\n",
              "        return;\n",
              "      }\n",
              "      const div = document.createElement('div');\n",
              "      const label = document.createElement('label');\n",
              "      label.textContent = `Downloading \"${filename}\": `;\n",
              "      div.appendChild(label);\n",
              "      const progress = document.createElement('progress');\n",
              "      progress.max = size;\n",
              "      div.appendChild(progress);\n",
              "      document.body.appendChild(div);\n",
              "\n",
              "      const buffers = [];\n",
              "      let downloaded = 0;\n",
              "\n",
              "      const channel = await google.colab.kernel.comms.open(id);\n",
              "      // Send a message to notify the kernel that we're ready.\n",
              "      channel.send({})\n",
              "\n",
              "      for await (const message of channel.messages) {\n",
              "        // Send a message to notify the kernel that we're ready.\n",
              "        channel.send({})\n",
              "        if (message.buffers) {\n",
              "          for (const buffer of message.buffers) {\n",
              "            buffers.push(buffer);\n",
              "            downloaded += buffer.byteLength;\n",
              "            progress.value = downloaded;\n",
              "          }\n",
              "        }\n",
              "      }\n",
              "      const blob = new Blob(buffers, {type: 'application/binary'});\n",
              "      const a = document.createElement('a');\n",
              "      a.href = window.URL.createObjectURL(blob);\n",
              "      a.download = filename;\n",
              "      div.appendChild(a);\n",
              "      a.click();\n",
              "      div.remove();\n",
              "    }\n",
              "  "
            ],
            "text/plain": [
              "<IPython.core.display.Javascript object>"
            ]
          },
          "metadata": {
            "tags": []
          }
        },
        {
          "output_type": "display_data",
          "data": {
            "application/javascript": [
              "download(\"download_05125a8c-0bbf-42ad-a9a4-61a30b7b7287\", \"sentences.tsv\", 1000141)"
            ],
            "text/plain": [
              "<IPython.core.display.Javascript object>"
            ]
          },
          "metadata": {
            "tags": []
          }
        }
      ]
    },
    {
      "cell_type": "markdown",
      "metadata": {
        "id": "nNh8cMy4XF6q"
      },
      "source": [
        "Вот это вам надо"
      ]
    },
    {
      "cell_type": "code",
      "metadata": {
        "id": "PXJ3nKDaTbs5"
      },
      "source": [
        "sent_df = pd.read_csv('https://raw.githubusercontent.com/nastyachizhikova/NLP_3rdyear/main/sentences.tsv', sep='\\t', header=None, names=['URL', 'Date', 'Sentence']) "
      ],
      "execution_count": null,
      "outputs": []
    },
    {
      "cell_type": "markdown",
      "metadata": {
        "id": "Etg4F-p5VIfy"
      },
      "source": [
        "### Предобработка предложений"
      ]
    },
    {
      "cell_type": "code",
      "metadata": {
        "id": "2palniY8ZBm9"
      },
      "source": [
        "def preprocess(sent):\n",
        "  tokens = [_.text.strip('-') for _ in list(tokenize(str(sent).lower())) if not re.search('[^а-яА-ЯёЁ\\-]', _.text)]\n",
        "  return ' '.join(tokens)"
      ],
      "execution_count": null,
      "outputs": []
    },
    {
      "cell_type": "code",
      "metadata": {
        "id": "LMWHy-t3qmKW"
      },
      "source": [
        "sent_df['Clean_sentence'] = sent_df['Sentence'].apply(preprocess)"
      ],
      "execution_count": null,
      "outputs": []
    },
    {
      "cell_type": "code",
      "metadata": {
        "id": "O74XZIVUOkiQ",
        "outputId": "063d17f7-3406-47ab-a863-0cb004e6f44d",
        "colab": {
          "base_uri": "https://localhost:8080/",
          "height": 391
        }
      },
      "source": [
        "sent_df"
      ],
      "execution_count": null,
      "outputs": [
        {
          "output_type": "execute_result",
          "data": {
            "text/html": [
              "<div>\n",
              "<style scoped>\n",
              "    .dataframe tbody tr th:only-of-type {\n",
              "        vertical-align: middle;\n",
              "    }\n",
              "\n",
              "    .dataframe tbody tr th {\n",
              "        vertical-align: top;\n",
              "    }\n",
              "\n",
              "    .dataframe thead th {\n",
              "        text-align: right;\n",
              "    }\n",
              "</style>\n",
              "<table border=\"1\" class=\"dataframe\">\n",
              "  <thead>\n",
              "    <tr style=\"text-align: right;\">\n",
              "      <th></th>\n",
              "      <th>URL</th>\n",
              "      <th>Date</th>\n",
              "      <th>Sentence</th>\n",
              "      <th>Clean_sentence</th>\n",
              "    </tr>\n",
              "  </thead>\n",
              "  <tbody>\n",
              "    <tr>\n",
              "      <th>0</th>\n",
              "      <td>https://vk.com/public182023900?w=wall-18202390...</td>\n",
              "      <td>2020-10-21 13:36:00</td>\n",
              "      <td>«В июне этого года девушка по имени Киара опуб...</td>\n",
              "      <td>в июне этого года девушка по имени киара опубл...</td>\n",
              "    </tr>\n",
              "    <tr>\n",
              "      <th>1</th>\n",
              "      <td>https://vk.com/public182023900?w=wall-18202390...</td>\n",
              "      <td>2020-10-21 13:36:00</td>\n",
              "      <td>Далее в видео появляется надпись: «Решила тут ...</td>\n",
              "      <td>далее в видео появляется надпись решила тут по...</td>\n",
              "    </tr>\n",
              "    <tr>\n",
              "      <th>2</th>\n",
              "      <td>https://vk.com/public182023900?w=wall-18202390...</td>\n",
              "      <td>2020-10-21 13:36:00</td>\n",
              "      <td>В конце видео Киара показывает пальцами знак  ...</td>\n",
              "      <td>в конце видео киара показывает пальцами знак п...</td>\n",
              "    </tr>\n",
              "    <tr>\n",
              "      <th>3</th>\n",
              "      <td>https://vk.com/public182023900?w=wall-18202390...</td>\n",
              "      <td>2020-10-21 13:36:00</td>\n",
              "      <td>На момент публикации этой статьи у поста 5.7 м...</td>\n",
              "      <td>на момент публикации этой статьи у поста милли...</td>\n",
              "    </tr>\n",
              "    <tr>\n",
              "      <th>4</th>\n",
              "      <td>https://vk.com/public182023900?w=wall-18202390...</td>\n",
              "      <td>2020-10-21 13:36:00</td>\n",
              "      <td>Фильм, упоминаемый в этом видео, — это польски...</td>\n",
              "      <td>фильм упоминаемый в этом видео это польский эр...</td>\n",
              "    </tr>\n",
              "    <tr>\n",
              "      <th>...</th>\n",
              "      <td>...</td>\n",
              "      <td>...</td>\n",
              "      <td>...</td>\n",
              "      <td>...</td>\n",
              "    </tr>\n",
              "    <tr>\n",
              "      <th>3463</th>\n",
              "      <td>https://vk.com/public46661081?w=wall-46661081_...</td>\n",
              "      <td>2020-09-23 17:30:02</td>\n",
              "      <td>Плюс непосредственно на площадке были еще три ...</td>\n",
              "      <td>плюс непосредственно на площадке были еще три ...</td>\n",
              "    </tr>\n",
              "    <tr>\n",
              "      <th>3464</th>\n",
              "      <td>https://vk.com/public46661081?w=wall-46661081_...</td>\n",
              "      <td>2020-09-23 17:30:02</td>\n",
              "      <td>Победа на всероссийском этапе дает возможность...</td>\n",
              "      <td>победа на всероссийском этапе дает возможность...</td>\n",
              "    </tr>\n",
              "    <tr>\n",
              "      <th>3465</th>\n",
              "      <td>https://vk.com/public46661081?w=wall-46661081_...</td>\n",
              "      <td>2020-09-23 17:30:02</td>\n",
              "      <td>Что касается профессиональной траектории Елены...</td>\n",
              "      <td>что касается профессиональной траектории елены...</td>\n",
              "    </tr>\n",
              "    <tr>\n",
              "      <th>3466</th>\n",
              "      <td>https://vk.com/public46661081?w=wall-46661081_...</td>\n",
              "      <td>2020-09-23 17:30:02</td>\n",
              "      <td>Например, систем «Умный дом» —Елена монтирует ...</td>\n",
              "      <td>например систем умный дом елена монтирует обор...</td>\n",
              "    </tr>\n",
              "    <tr>\n",
              "      <th>3467</th>\n",
              "      <td>https://vk.com/public46661081?w=wall-46661081_...</td>\n",
              "      <td>2020-09-23 17:30:02</td>\n",
              "      <td>Источники: 1. https://tv2.today/News/Elektromo...</td>\n",
              "      <td>источники</td>\n",
              "    </tr>\n",
              "  </tbody>\n",
              "</table>\n",
              "<p>3468 rows × 4 columns</p>\n",
              "</div>"
            ],
            "text/plain": [
              "                                                    URL  ...                                     Clean_sentence\n",
              "0     https://vk.com/public182023900?w=wall-18202390...  ...  в июне этого года девушка по имени киара опубл...\n",
              "1     https://vk.com/public182023900?w=wall-18202390...  ...  далее в видео появляется надпись решила тут по...\n",
              "2     https://vk.com/public182023900?w=wall-18202390...  ...  в конце видео киара показывает пальцами знак п...\n",
              "3     https://vk.com/public182023900?w=wall-18202390...  ...  на момент публикации этой статьи у поста милли...\n",
              "4     https://vk.com/public182023900?w=wall-18202390...  ...  фильм упоминаемый в этом видео это польский эр...\n",
              "...                                                 ...  ...                                                ...\n",
              "3463  https://vk.com/public46661081?w=wall-46661081_...  ...  плюс непосредственно на площадке были еще три ...\n",
              "3464  https://vk.com/public46661081?w=wall-46661081_...  ...  победа на всероссийском этапе дает возможность...\n",
              "3465  https://vk.com/public46661081?w=wall-46661081_...  ...  что касается профессиональной траектории елены...\n",
              "3466  https://vk.com/public46661081?w=wall-46661081_...  ...  например систем умный дом елена монтирует обор...\n",
              "3467  https://vk.com/public46661081?w=wall-46661081_...  ...                                         источники \n",
              "\n",
              "[3468 rows x 4 columns]"
            ]
          },
          "metadata": {
            "tags": []
          },
          "execution_count": 89
        }
      ]
    },
    {
      "cell_type": "markdown",
      "metadata": {
        "id": "4uIp9-_WYVV4"
      },
      "source": [
        "Датафрейм униграмм"
      ]
    },
    {
      "cell_type": "code",
      "metadata": {
        "id": "bDIl6opad85d"
      },
      "source": [
        "def get_pos_lem(word):\n",
        "  analiz = morph.parse(word)\n",
        "  return analiz[0].normal_form, analiz[0].tag.POS"
      ],
      "execution_count": null,
      "outputs": []
    },
    {
      "cell_type": "code",
      "metadata": {
        "id": "tVuATgZXi0vg"
      },
      "source": [
        "from tqdm.auto import tqdm"
      ],
      "execution_count": null,
      "outputs": []
    },
    {
      "cell_type": "code",
      "metadata": {
        "id": "nbx2IIEJcGC-",
        "outputId": "a577c4ed-4c6a-4960-ab34-e342c71e6c39",
        "colab": {
          "base_uri": "https://localhost:8080/",
          "height": 66,
          "referenced_widgets": [
            "5df0d0eb79f744f4a2bbae00497383a7",
            "a69770db7b0a4be18aff42e62d5397a1",
            "16d8092b38414f6ea0907475ff8aadec",
            "f285ebc5aa664f888b020291080d7790",
            "22a222f6dc434f19b24dd9f618f651c1",
            "bc24ea09d275439bb2bd47a86f06a3db",
            "c7d1f05e1ed74f9b8bd86995be24cded",
            "b9b739d1a5244f9e8bb36c8ad7fe073a"
          ]
        }
      },
      "source": [
        "uni_df = pd.DataFrame(columns=['Token', 'Lemma', 'POS', 'Sent_ids'])\n",
        "\n",
        "for sent_id, sent in tqdm(zip(sent_df.index, sent_df.Clean_sentence)):\n",
        "    for word in sent.split():\n",
        "        if word not in uni_df.Token.values:\n",
        "          lem, pos = get_pos_lem(word) \n",
        "          uni_df = uni_df.append({'Token': word,\n",
        "                          'Lemma': lem,\n",
        "                          'POS': str(pos),\n",
        "                          'Sent_ids': str(sent_id)\n",
        "                          }, ignore_index=True)\n",
        "        else:\n",
        "          #ids = uni_df[uni_df.Token == word].Sent_ids.values.tolist()\n",
        "          uni_df.loc[uni_df.Token == word, 'Sent_ids'] += f' {sent_id}'"
      ],
      "execution_count": null,
      "outputs": [
        {
          "output_type": "display_data",
          "data": {
            "application/vnd.jupyter.widget-view+json": {
              "model_id": "5df0d0eb79f744f4a2bbae00497383a7",
              "version_minor": 0,
              "version_major": 2
            },
            "text/plain": [
              "HBox(children=(FloatProgress(value=1.0, bar_style='info', max=1.0), HTML(value='')))"
            ]
          },
          "metadata": {
            "tags": []
          }
        },
        {
          "output_type": "stream",
          "text": [
            "\n"
          ],
          "name": "stdout"
        }
      ]
    },
    {
      "cell_type": "code",
      "metadata": {
        "id": "QVCvJtKLpd2o"
      },
      "source": [
        "def fix_ids(str_list):\n",
        "  return [int(i) for i in list(set(str_list.split()))]"
      ],
      "execution_count": null,
      "outputs": []
    },
    {
      "cell_type": "code",
      "metadata": {
        "id": "gJ3rpAFVpunP"
      },
      "source": [
        "uni_df['Ids'] = uni_df['Sent_ids'].apply(fix_ids)\n"
      ],
      "execution_count": null,
      "outputs": []
    },
    {
      "cell_type": "code",
      "metadata": {
        "id": "ySOQ3DeEA6fu",
        "outputId": "e4ef4a9c-8f23-4ca2-b39b-205ddde1a5d8",
        "colab": {
          "base_uri": "https://localhost:8080/",
          "height": 391
        }
      },
      "source": [
        "uni_df"
      ],
      "execution_count": null,
      "outputs": [
        {
          "output_type": "execute_result",
          "data": {
            "text/html": [
              "<div>\n",
              "<style scoped>\n",
              "    .dataframe tbody tr th:only-of-type {\n",
              "        vertical-align: middle;\n",
              "    }\n",
              "\n",
              "    .dataframe tbody tr th {\n",
              "        vertical-align: top;\n",
              "    }\n",
              "\n",
              "    .dataframe thead th {\n",
              "        text-align: right;\n",
              "    }\n",
              "</style>\n",
              "<table border=\"1\" class=\"dataframe\">\n",
              "  <thead>\n",
              "    <tr style=\"text-align: right;\">\n",
              "      <th></th>\n",
              "      <th>Token</th>\n",
              "      <th>Lemma</th>\n",
              "      <th>POS</th>\n",
              "      <th>Sent_ids</th>\n",
              "      <th>Ids</th>\n",
              "    </tr>\n",
              "  </thead>\n",
              "  <tbody>\n",
              "    <tr>\n",
              "      <th>0</th>\n",
              "      <td>в</td>\n",
              "      <td>в</td>\n",
              "      <td>PREP</td>\n",
              "      <td>0 0 0 1 2 2 4 5 6 6 7 7 8 8 10 20 20 26 26 27 ...</td>\n",
              "      <td>[2053, 2598, 1373, 1700, 316, 63, 3340, 3281, ...</td>\n",
              "    </tr>\n",
              "    <tr>\n",
              "      <th>1</th>\n",
              "      <td>июне</td>\n",
              "      <td>июнь</td>\n",
              "      <td>NOUN</td>\n",
              "      <td>0 861</td>\n",
              "      <td>[0, 861]</td>\n",
              "    </tr>\n",
              "    <tr>\n",
              "      <th>2</th>\n",
              "      <td>этого</td>\n",
              "      <td>это</td>\n",
              "      <td>NPRO</td>\n",
              "      <td>0 5 30 41 41 88 146 192 197 210 326 335 363 40...</td>\n",
              "      <td>[2336, 504, 5, 928, 1829, 3156, 1489, 146, 175...</td>\n",
              "    </tr>\n",
              "    <tr>\n",
              "      <th>3</th>\n",
              "      <td>года</td>\n",
              "      <td>год</td>\n",
              "      <td>NOUN</td>\n",
              "      <td>0 260 261 269 432 447 473 505 552 556 699 736 ...</td>\n",
              "      <td>[1171, 2553, 2461, 2325, 1570, 1272, 1490, 260...</td>\n",
              "    </tr>\n",
              "    <tr>\n",
              "      <th>4</th>\n",
              "      <td>девушка</td>\n",
              "      <td>девушка</td>\n",
              "      <td>NOUN</td>\n",
              "      <td>0 244 250 269 450 905 909 925 1000 1241 1303 1...</td>\n",
              "      <td>[2375, 1746, 2282, 1303, 1407, 3001, 1839, 310...</td>\n",
              "    </tr>\n",
              "    <tr>\n",
              "      <th>...</th>\n",
              "      <td>...</td>\n",
              "      <td>...</td>\n",
              "      <td>...</td>\n",
              "      <td>...</td>\n",
              "      <td>...</td>\n",
              "    </tr>\n",
              "    <tr>\n",
              "      <th>15527</th>\n",
              "      <td>систем</td>\n",
              "      <td>система</td>\n",
              "      <td>NOUN</td>\n",
              "      <td>3465 3466</td>\n",
              "      <td>[3466, 3465]</td>\n",
              "    </tr>\n",
              "    <tr>\n",
              "      <th>15528</th>\n",
              "      <td>монтирует</td>\n",
              "      <td>монтировать</td>\n",
              "      <td>VERB</td>\n",
              "      <td>3466</td>\n",
              "      <td>[3466]</td>\n",
              "    </tr>\n",
              "    <tr>\n",
              "      <th>15529</th>\n",
              "      <td>оборудование</td>\n",
              "      <td>оборудование</td>\n",
              "      <td>NOUN</td>\n",
              "      <td>3466</td>\n",
              "      <td>[3466]</td>\n",
              "    </tr>\n",
              "    <tr>\n",
              "      <th>15530</th>\n",
              "      <td>устанавливает</td>\n",
              "      <td>устанавливать</td>\n",
              "      <td>VERB</td>\n",
              "      <td>3466</td>\n",
              "      <td>[3466]</td>\n",
              "    </tr>\n",
              "    <tr>\n",
              "      <th>15531</th>\n",
              "      <td>программирует</td>\n",
              "      <td>программировать</td>\n",
              "      <td>VERB</td>\n",
              "      <td>3466</td>\n",
              "      <td>[3466]</td>\n",
              "    </tr>\n",
              "  </tbody>\n",
              "</table>\n",
              "<p>15532 rows × 5 columns</p>\n",
              "</div>"
            ],
            "text/plain": [
              "               Token  ...                                                Ids\n",
              "0                  в  ...  [2053, 2598, 1373, 1700, 316, 63, 3340, 3281, ...\n",
              "1               июне  ...                                           [0, 861]\n",
              "2              этого  ...  [2336, 504, 5, 928, 1829, 3156, 1489, 146, 175...\n",
              "3               года  ...  [1171, 2553, 2461, 2325, 1570, 1272, 1490, 260...\n",
              "4            девушка  ...  [2375, 1746, 2282, 1303, 1407, 3001, 1839, 310...\n",
              "...              ...  ...                                                ...\n",
              "15527         систем  ...                                       [3466, 3465]\n",
              "15528      монтирует  ...                                             [3466]\n",
              "15529   оборудование  ...                                             [3466]\n",
              "15530  устанавливает  ...                                             [3466]\n",
              "15531  программирует  ...                                             [3466]\n",
              "\n",
              "[15532 rows x 5 columns]"
            ]
          },
          "metadata": {
            "tags": []
          },
          "execution_count": 95
        }
      ]
    },
    {
      "cell_type": "code",
      "metadata": {
        "id": "C2EfyUufzeM-",
        "outputId": "25980be5-8207-4a60-d5a0-f3c7db2965f0",
        "colab": {
          "base_uri": "https://localhost:8080/",
          "height": 17
        }
      },
      "source": [
        "# Для скачивания tsv с униграммами\n",
        "from google.colab import files\n",
        "uni_df.to_csv('uni_df.tsv', sep='\\t', index=False)\n",
        "files.download('uni_df.tsv')"
      ],
      "execution_count": null,
      "outputs": [
        {
          "output_type": "display_data",
          "data": {
            "application/javascript": [
              "\n",
              "    async function download(id, filename, size) {\n",
              "      if (!google.colab.kernel.accessAllowed) {\n",
              "        return;\n",
              "      }\n",
              "      const div = document.createElement('div');\n",
              "      const label = document.createElement('label');\n",
              "      label.textContent = `Downloading \"${filename}\": `;\n",
              "      div.appendChild(label);\n",
              "      const progress = document.createElement('progress');\n",
              "      progress.max = size;\n",
              "      div.appendChild(progress);\n",
              "      document.body.appendChild(div);\n",
              "\n",
              "      const buffers = [];\n",
              "      let downloaded = 0;\n",
              "\n",
              "      const channel = await google.colab.kernel.comms.open(id);\n",
              "      // Send a message to notify the kernel that we're ready.\n",
              "      channel.send({})\n",
              "\n",
              "      for await (const message of channel.messages) {\n",
              "        // Send a message to notify the kernel that we're ready.\n",
              "        channel.send({})\n",
              "        if (message.buffers) {\n",
              "          for (const buffer of message.buffers) {\n",
              "            buffers.push(buffer);\n",
              "            downloaded += buffer.byteLength;\n",
              "            progress.value = downloaded;\n",
              "          }\n",
              "        }\n",
              "      }\n",
              "      const blob = new Blob(buffers, {type: 'application/binary'});\n",
              "      const a = document.createElement('a');\n",
              "      a.href = window.URL.createObjectURL(blob);\n",
              "      a.download = filename;\n",
              "      div.appendChild(a);\n",
              "      a.click();\n",
              "      div.remove();\n",
              "    }\n",
              "  "
            ],
            "text/plain": [
              "<IPython.core.display.Javascript object>"
            ]
          },
          "metadata": {
            "tags": []
          }
        },
        {
          "output_type": "display_data",
          "data": {
            "application/javascript": [
              "download(\"download_086aeeb7-1f07-4d18-91f7-0e4b6339c4c3\", \"uni_df.tsv\", 1205598)"
            ],
            "text/plain": [
              "<IPython.core.display.Javascript object>"
            ]
          },
          "metadata": {
            "tags": []
          }
        }
      ]
    },
    {
      "cell_type": "markdown",
      "metadata": {
        "id": "B_gbvL8S0oad"
      },
      "source": [
        "Датафрейм биграмм\n"
      ]
    },
    {
      "cell_type": "code",
      "metadata": {
        "id": "oOsBDVLDzlvw",
        "outputId": "abd64929-03c7-4f8f-a625-3c501f0ba7f0",
        "colab": {
          "base_uri": "https://localhost:8080/",
          "height": 65,
          "referenced_widgets": [
            "4f7a1bcfedff4c15bc0d5d1dc2735413",
            "6008b4f437ad434e8b59b2303cc75aed",
            "d46149cda5b149e3bc03276ae0ae726f",
            "73dca4a0db6c4da1905db19664e69c62",
            "cadb32fb8a4948a08e1372ff344dd8eb",
            "8b80687eb11a40bab7d778043e57caf8",
            "72dd651468344e0d9930aa519bedd5a2",
            "d582ea2cbf7e404d848a2e0221095717"
          ]
        }
      },
      "source": [
        "bi_df = pd.DataFrame(columns=['bi_token', 'uni_first_token', 'uni_first_lemma', 'uni_first_POS', 'uni_second_token', 'uni_second_lemma', 'uni_second_POS', 'Sent_ids'])\n",
        "token_values = []\n",
        "for sent_id, sent in tqdm(zip(sent_df.index, sent_df.Clean_sentence)):\n",
        "  list_words = [word.strip(punctuation) for word in sent.split()]\n",
        "  text_list = [' '.join(list_words)]\n",
        "  bigrams = [b for l in text_list for b in zip(l.split(\" \")[:-1], l.split(\" \")[1:])]\n",
        "  for bigram in bigrams:\n",
        "    if bigram not in token_values:\n",
        "      bi_lem = [get_pos_lem(word) for word in bigram]\n",
        "      bi_df = bi_df.append({'bi_token': bigram,\n",
        "                          'uni_first_token': bigram[0],\n",
        "                          'uni_first_lemma': bi_lem[0][0],\n",
        "                          'uni_first_POS': bi_lem[0][1],\n",
        "                          'uni_second_token': bigram[1],\n",
        "                          'uni_second_lemma': bi_lem[1][0], \n",
        "                          'uni_second_POS': bi_lem[1][1],\n",
        "                          'Sent_ids': str(sent_id)\n",
        "                          }, ignore_index=True)\n",
        "      token_values.append(bigram)\n",
        "    else:\n",
        "      bi_df.loc[bi_df.bi_token == bigram, 'Sent_ids'] += f' {sent_id}'\n",
        "   "
      ],
      "execution_count": null,
      "outputs": [
        {
          "output_type": "display_data",
          "data": {
            "application/vnd.jupyter.widget-view+json": {
              "model_id": "4f7a1bcfedff4c15bc0d5d1dc2735413",
              "version_minor": 0,
              "version_major": 2
            },
            "text/plain": [
              "HBox(children=(FloatProgress(value=1.0, bar_style='info', max=1.0), HTML(value='')))"
            ]
          },
          "metadata": {
            "tags": []
          }
        },
        {
          "output_type": "stream",
          "text": [
            "\n"
          ],
          "name": "stdout"
        }
      ]
    },
    {
      "cell_type": "code",
      "metadata": {
        "id": "0lxgH5vSEmUF"
      },
      "source": [
        "bi_df['Ids'] = bi_df['Sent_ids'].apply(fix_ids)"
      ],
      "execution_count": null,
      "outputs": []
    },
    {
      "cell_type": "code",
      "metadata": {
        "id": "MKbIj4KZBfw5",
        "outputId": "a8a3346f-1a52-4d6a-eec2-23a4deffeb08",
        "colab": {
          "base_uri": "https://localhost:8080/",
          "height": 391
        }
      },
      "source": [
        "bi_df"
      ],
      "execution_count": null,
      "outputs": [
        {
          "output_type": "execute_result",
          "data": {
            "text/html": [
              "<div>\n",
              "<style scoped>\n",
              "    .dataframe tbody tr th:only-of-type {\n",
              "        vertical-align: middle;\n",
              "    }\n",
              "\n",
              "    .dataframe tbody tr th {\n",
              "        vertical-align: top;\n",
              "    }\n",
              "\n",
              "    .dataframe thead th {\n",
              "        text-align: right;\n",
              "    }\n",
              "</style>\n",
              "<table border=\"1\" class=\"dataframe\">\n",
              "  <thead>\n",
              "    <tr style=\"text-align: right;\">\n",
              "      <th></th>\n",
              "      <th>bi_token</th>\n",
              "      <th>uni_first_token</th>\n",
              "      <th>uni_first_lemma</th>\n",
              "      <th>uni_first_POS</th>\n",
              "      <th>uni_second_token</th>\n",
              "      <th>uni_second_lemma</th>\n",
              "      <th>uni_second_POS</th>\n",
              "      <th>Sent_ids</th>\n",
              "      <th>Ids</th>\n",
              "    </tr>\n",
              "  </thead>\n",
              "  <tbody>\n",
              "    <tr>\n",
              "      <th>0</th>\n",
              "      <td>(в, июне)</td>\n",
              "      <td>в</td>\n",
              "      <td>в</td>\n",
              "      <td>PREP</td>\n",
              "      <td>июне</td>\n",
              "      <td>июнь</td>\n",
              "      <td>NOUN</td>\n",
              "      <td>0 861</td>\n",
              "      <td>[861, 0]</td>\n",
              "    </tr>\n",
              "    <tr>\n",
              "      <th>1</th>\n",
              "      <td>(июне, этого)</td>\n",
              "      <td>июне</td>\n",
              "      <td>июнь</td>\n",
              "      <td>NOUN</td>\n",
              "      <td>этого</td>\n",
              "      <td>это</td>\n",
              "      <td>NPRO</td>\n",
              "      <td>0</td>\n",
              "      <td>[0]</td>\n",
              "    </tr>\n",
              "    <tr>\n",
              "      <th>2</th>\n",
              "      <td>(этого, года)</td>\n",
              "      <td>этого</td>\n",
              "      <td>это</td>\n",
              "      <td>NPRO</td>\n",
              "      <td>года</td>\n",
              "      <td>год</td>\n",
              "      <td>NOUN</td>\n",
              "      <td>0 473 1169 1672 1756 3155</td>\n",
              "      <td>[1672, 3155, 1169, 473, 1756, 0]</td>\n",
              "    </tr>\n",
              "    <tr>\n",
              "      <th>3</th>\n",
              "      <td>(года, девушка)</td>\n",
              "      <td>года</td>\n",
              "      <td>год</td>\n",
              "      <td>NOUN</td>\n",
              "      <td>девушка</td>\n",
              "      <td>девушка</td>\n",
              "      <td>NOUN</td>\n",
              "      <td>0</td>\n",
              "      <td>[0]</td>\n",
              "    </tr>\n",
              "    <tr>\n",
              "      <th>4</th>\n",
              "      <td>(девушка, по)</td>\n",
              "      <td>девушка</td>\n",
              "      <td>девушка</td>\n",
              "      <td>NOUN</td>\n",
              "      <td>по</td>\n",
              "      <td>по</td>\n",
              "      <td>PREP</td>\n",
              "      <td>0</td>\n",
              "      <td>[0]</td>\n",
              "    </tr>\n",
              "    <tr>\n",
              "      <th>...</th>\n",
              "      <td>...</td>\n",
              "      <td>...</td>\n",
              "      <td>...</td>\n",
              "      <td>...</td>\n",
              "      <td>...</td>\n",
              "      <td>...</td>\n",
              "      <td>...</td>\n",
              "      <td>...</td>\n",
              "      <td>...</td>\n",
              "    </tr>\n",
              "    <tr>\n",
              "      <th>41739</th>\n",
              "      <td>(устанавливает, датчики)</td>\n",
              "      <td>устанавливает</td>\n",
              "      <td>устанавливать</td>\n",
              "      <td>VERB</td>\n",
              "      <td>датчики</td>\n",
              "      <td>датчик</td>\n",
              "      <td>NOUN</td>\n",
              "      <td>3466</td>\n",
              "      <td>[3466]</td>\n",
              "    </tr>\n",
              "    <tr>\n",
              "      <th>41740</th>\n",
              "      <td>(датчики, и)</td>\n",
              "      <td>датчики</td>\n",
              "      <td>датчик</td>\n",
              "      <td>NOUN</td>\n",
              "      <td>и</td>\n",
              "      <td>и</td>\n",
              "      <td>CONJ</td>\n",
              "      <td>3466</td>\n",
              "      <td>[3466]</td>\n",
              "    </tr>\n",
              "    <tr>\n",
              "      <th>41741</th>\n",
              "      <td>(затем, программирует)</td>\n",
              "      <td>затем</td>\n",
              "      <td>затем</td>\n",
              "      <td>ADVB</td>\n",
              "      <td>программирует</td>\n",
              "      <td>программировать</td>\n",
              "      <td>VERB</td>\n",
              "      <td>3466</td>\n",
              "      <td>[3466]</td>\n",
              "    </tr>\n",
              "    <tr>\n",
              "      <th>41742</th>\n",
              "      <td>(программирует, их)</td>\n",
              "      <td>программирует</td>\n",
              "      <td>программировать</td>\n",
              "      <td>VERB</td>\n",
              "      <td>их</td>\n",
              "      <td>они</td>\n",
              "      <td>NPRO</td>\n",
              "      <td>3466</td>\n",
              "      <td>[3466]</td>\n",
              "    </tr>\n",
              "    <tr>\n",
              "      <th>41743</th>\n",
              "      <td>(их, работу)</td>\n",
              "      <td>их</td>\n",
              "      <td>они</td>\n",
              "      <td>NPRO</td>\n",
              "      <td>работу</td>\n",
              "      <td>работа</td>\n",
              "      <td>NOUN</td>\n",
              "      <td>3466</td>\n",
              "      <td>[3466]</td>\n",
              "    </tr>\n",
              "  </tbody>\n",
              "</table>\n",
              "<p>41744 rows × 9 columns</p>\n",
              "</div>"
            ],
            "text/plain": [
              "                       bi_token  ...                               Ids\n",
              "0                     (в, июне)  ...                          [861, 0]\n",
              "1                 (июне, этого)  ...                               [0]\n",
              "2                 (этого, года)  ...  [1672, 3155, 1169, 473, 1756, 0]\n",
              "3               (года, девушка)  ...                               [0]\n",
              "4                 (девушка, по)  ...                               [0]\n",
              "...                         ...  ...                               ...\n",
              "41739  (устанавливает, датчики)  ...                            [3466]\n",
              "41740              (датчики, и)  ...                            [3466]\n",
              "41741    (затем, программирует)  ...                            [3466]\n",
              "41742       (программирует, их)  ...                            [3466]\n",
              "41743              (их, работу)  ...                            [3466]\n",
              "\n",
              "[41744 rows x 9 columns]"
            ]
          },
          "metadata": {
            "tags": []
          },
          "execution_count": 25
        }
      ]
    },
    {
      "cell_type": "code",
      "metadata": {
        "id": "ZxpIDFhANIDS",
        "outputId": "cdf877f3-9a4e-42d7-aab1-32e9e8411155",
        "colab": {
          "base_uri": "https://localhost:8080/",
          "height": 33
        }
      },
      "source": [
        "# Для скачивания tsv с биграммами\n",
        "from google.colab import files\n",
        "bi_df.to_csv('bi_df.tsv', sep='\\t', index=False)\n",
        "files.download('bi_df.tsv')"
      ],
      "execution_count": null,
      "outputs": [
        {
          "output_type": "display_data",
          "data": {
            "application/javascript": [
              "\n",
              "    async function download(id, filename, size) {\n",
              "      if (!google.colab.kernel.accessAllowed) {\n",
              "        return;\n",
              "      }\n",
              "      const div = document.createElement('div');\n",
              "      const label = document.createElement('label');\n",
              "      label.textContent = `Downloading \"${filename}\": `;\n",
              "      div.appendChild(label);\n",
              "      const progress = document.createElement('progress');\n",
              "      progress.max = size;\n",
              "      div.appendChild(progress);\n",
              "      document.body.appendChild(div);\n",
              "\n",
              "      const buffers = [];\n",
              "      let downloaded = 0;\n",
              "\n",
              "      const channel = await google.colab.kernel.comms.open(id);\n",
              "      // Send a message to notify the kernel that we're ready.\n",
              "      channel.send({})\n",
              "\n",
              "      for await (const message of channel.messages) {\n",
              "        // Send a message to notify the kernel that we're ready.\n",
              "        channel.send({})\n",
              "        if (message.buffers) {\n",
              "          for (const buffer of message.buffers) {\n",
              "            buffers.push(buffer);\n",
              "            downloaded += buffer.byteLength;\n",
              "            progress.value = downloaded;\n",
              "          }\n",
              "        }\n",
              "      }\n",
              "      const blob = new Blob(buffers, {type: 'application/binary'});\n",
              "      const a = document.createElement('a');\n",
              "      a.href = window.URL.createObjectURL(blob);\n",
              "      a.download = filename;\n",
              "      div.appendChild(a);\n",
              "      a.click();\n",
              "      div.remove();\n",
              "    }\n",
              "  "
            ],
            "text/plain": [
              "<IPython.core.display.Javascript object>"
            ]
          },
          "metadata": {
            "tags": []
          }
        },
        {
          "output_type": "display_data",
          "data": {
            "application/javascript": [
              "download(\"download_66b39f66-bbef-421b-b83b-2108a9209182\", \"bi_df.tsv\", 4663365)"
            ],
            "text/plain": [
              "<IPython.core.display.Javascript object>"
            ]
          },
          "metadata": {
            "tags": []
          }
        }
      ]
    },
    {
      "cell_type": "markdown",
      "metadata": {
        "id": "7RKRFl4S3USb"
      },
      "source": [
        "Датафрейм триграмм"
      ]
    },
    {
      "cell_type": "code",
      "metadata": {
        "id": "e9PRQ1tmzuKi",
        "outputId": "e04ea07c-0866-4bf5-b604-c1536a1993e7",
        "colab": {
          "base_uri": "https://localhost:8080/",
          "height": 48,
          "referenced_widgets": [
            "a85919e72b2e4061935a5663f4a81dfc",
            "722ac459f505424a9a055b94dddc2cdd",
            "906c9af687494706b272edd4b3a654f4",
            "f06695d7400945cd90dfe98f5d141d9d",
            "757359bec7244637aa3af7b47daf7723",
            "02d255f66c07433d9a9e18160502b05e",
            "c64562985f9047f39b3d65027c8e0d26",
            "69d35b6dabe74732b1de168671e9f6c1"
          ]
        }
      },
      "source": [
        "tri_df = pd.DataFrame(columns=['tri_token', 'uni_first_token', 'uni_first_lemma', 'uni_first_POS', 'uni_second_token', 'uni_second_lemma', 'uni_second_POS','uni_third_token','uni_third_lemma','uni_third_POS', 'Sent_ids'])\n",
        "token_values = []\n",
        "for sent_id, sent in tqdm(zip(sent_df.index, sent_df.Clean_sentence)):\n",
        "    list_words = [word.strip(punctuation) for word in sent.split()]\n",
        "    text_list = [' '.join(list_words)]\n",
        "    trigrams = [b for l in text_list for b in zip(l.split(\" \")[:-1], l.split(\" \")[1:],l.split(' ')[2:])]\n",
        "    for trigram in trigrams:\n",
        "        if trigram not in token_values:\n",
        "            tri_lem = [get_pos_lem(word) for word in trigram]\n",
        "            tri_df = tri_df.append({'tri_token': trigram,\n",
        "                                'uni_first_token': trigram[0],\n",
        "                                'uni_first_lemma': tri_lem[0][0],\n",
        "                                'uni_first_POS': tri_lem[0][1],\n",
        "                                'uni_second_token': trigram[1],\n",
        "                                'uni_second_lemma': tri_lem[1][0], \n",
        "                                'uni_second_POS': tri_lem[1][1],\n",
        "                                'uni_third_token': trigram[2],\n",
        "                                'uni_third_lemma': tri_lem[2][0], \n",
        "                                'uni_third_POS': tri_lem[2][1],\n",
        "                                'Sent_ids': str(sent_id)\n",
        "                          }, ignore_index=True)\n",
        "            token_values.append(trigram)\n",
        "        else:\n",
        "            tri_df.loc[tri_df.tri_token == trigram, 'Sent_ids'] += f' {sent_id}'"
      ],
      "execution_count": null,
      "outputs": [
        {
          "output_type": "display_data",
          "data": {
            "application/vnd.jupyter.widget-view+json": {
              "model_id": "a85919e72b2e4061935a5663f4a81dfc",
              "version_minor": 0,
              "version_major": 2
            },
            "text/plain": [
              "HBox(children=(FloatProgress(value=1.0, bar_style='info', max=1.0), HTML(value='')))"
            ]
          },
          "metadata": {
            "tags": []
          }
        }
      ]
    },
    {
      "cell_type": "code",
      "metadata": {
        "id": "VKlgjY3l3eqp"
      },
      "source": [
        "tri_df['Ids'] = tri_df['Sent_ids'].apply(fix_ids)"
      ],
      "execution_count": null,
      "outputs": []
    },
    {
      "cell_type": "code",
      "metadata": {
        "id": "2v8m_JbJICh_",
        "outputId": "14ea578e-b621-4c8d-addb-0daf5b0d338a",
        "colab": {
          "base_uri": "https://localhost:8080/",
          "height": 573
        }
      },
      "source": [
        "tri_df"
      ],
      "execution_count": null,
      "outputs": [
        {
          "output_type": "execute_result",
          "data": {
            "text/html": [
              "<div>\n",
              "<style scoped>\n",
              "    .dataframe tbody tr th:only-of-type {\n",
              "        vertical-align: middle;\n",
              "    }\n",
              "\n",
              "    .dataframe tbody tr th {\n",
              "        vertical-align: top;\n",
              "    }\n",
              "\n",
              "    .dataframe thead th {\n",
              "        text-align: right;\n",
              "    }\n",
              "</style>\n",
              "<table border=\"1\" class=\"dataframe\">\n",
              "  <thead>\n",
              "    <tr style=\"text-align: right;\">\n",
              "      <th></th>\n",
              "      <th>tri_token</th>\n",
              "      <th>uni_first_token</th>\n",
              "      <th>uni_first_lemma</th>\n",
              "      <th>uni_first_POS</th>\n",
              "      <th>uni_second_token</th>\n",
              "      <th>uni_second_lemma</th>\n",
              "      <th>uni_second_POS</th>\n",
              "      <th>uni_third_token</th>\n",
              "      <th>uni_third_lemma</th>\n",
              "      <th>uni_third_POS</th>\n",
              "      <th>Sent_ids</th>\n",
              "      <th>Ids</th>\n",
              "    </tr>\n",
              "  </thead>\n",
              "  <tbody>\n",
              "    <tr>\n",
              "      <th>0</th>\n",
              "      <td>(в, июне, этого)</td>\n",
              "      <td>в</td>\n",
              "      <td>в</td>\n",
              "      <td>PREP</td>\n",
              "      <td>июне</td>\n",
              "      <td>июнь</td>\n",
              "      <td>NOUN</td>\n",
              "      <td>этого</td>\n",
              "      <td>это</td>\n",
              "      <td>NPRO</td>\n",
              "      <td>0</td>\n",
              "      <td>[0]</td>\n",
              "    </tr>\n",
              "    <tr>\n",
              "      <th>1</th>\n",
              "      <td>(июне, этого, года)</td>\n",
              "      <td>июне</td>\n",
              "      <td>июнь</td>\n",
              "      <td>NOUN</td>\n",
              "      <td>этого</td>\n",
              "      <td>это</td>\n",
              "      <td>NPRO</td>\n",
              "      <td>года</td>\n",
              "      <td>год</td>\n",
              "      <td>NOUN</td>\n",
              "      <td>0</td>\n",
              "      <td>[0]</td>\n",
              "    </tr>\n",
              "    <tr>\n",
              "      <th>2</th>\n",
              "      <td>(этого, года, девушка)</td>\n",
              "      <td>этого</td>\n",
              "      <td>это</td>\n",
              "      <td>NPRO</td>\n",
              "      <td>года</td>\n",
              "      <td>год</td>\n",
              "      <td>NOUN</td>\n",
              "      <td>девушка</td>\n",
              "      <td>девушка</td>\n",
              "      <td>NOUN</td>\n",
              "      <td>0</td>\n",
              "      <td>[0]</td>\n",
              "    </tr>\n",
              "    <tr>\n",
              "      <th>3</th>\n",
              "      <td>(года, девушка, по)</td>\n",
              "      <td>года</td>\n",
              "      <td>год</td>\n",
              "      <td>NOUN</td>\n",
              "      <td>девушка</td>\n",
              "      <td>девушка</td>\n",
              "      <td>NOUN</td>\n",
              "      <td>по</td>\n",
              "      <td>по</td>\n",
              "      <td>PREP</td>\n",
              "      <td>0</td>\n",
              "      <td>[0]</td>\n",
              "    </tr>\n",
              "    <tr>\n",
              "      <th>4</th>\n",
              "      <td>(девушка, по, имени)</td>\n",
              "      <td>девушка</td>\n",
              "      <td>девушка</td>\n",
              "      <td>NOUN</td>\n",
              "      <td>по</td>\n",
              "      <td>по</td>\n",
              "      <td>PREP</td>\n",
              "      <td>имени</td>\n",
              "      <td>имя</td>\n",
              "      <td>NOUN</td>\n",
              "      <td>0</td>\n",
              "      <td>[0]</td>\n",
              "    </tr>\n",
              "    <tr>\n",
              "      <th>...</th>\n",
              "      <td>...</td>\n",
              "      <td>...</td>\n",
              "      <td>...</td>\n",
              "      <td>...</td>\n",
              "      <td>...</td>\n",
              "      <td>...</td>\n",
              "      <td>...</td>\n",
              "      <td>...</td>\n",
              "      <td>...</td>\n",
              "      <td>...</td>\n",
              "      <td>...</td>\n",
              "      <td>...</td>\n",
              "    </tr>\n",
              "    <tr>\n",
              "      <th>46753</th>\n",
              "      <td>(устанавливает, датчики, и)</td>\n",
              "      <td>устанавливает</td>\n",
              "      <td>устанавливать</td>\n",
              "      <td>VERB</td>\n",
              "      <td>датчики</td>\n",
              "      <td>датчик</td>\n",
              "      <td>NOUN</td>\n",
              "      <td>и</td>\n",
              "      <td>и</td>\n",
              "      <td>CONJ</td>\n",
              "      <td>3466</td>\n",
              "      <td>[3466]</td>\n",
              "    </tr>\n",
              "    <tr>\n",
              "      <th>46754</th>\n",
              "      <td>(датчики, и, затем)</td>\n",
              "      <td>датчики</td>\n",
              "      <td>датчик</td>\n",
              "      <td>NOUN</td>\n",
              "      <td>и</td>\n",
              "      <td>и</td>\n",
              "      <td>CONJ</td>\n",
              "      <td>затем</td>\n",
              "      <td>затем</td>\n",
              "      <td>ADVB</td>\n",
              "      <td>3466</td>\n",
              "      <td>[3466]</td>\n",
              "    </tr>\n",
              "    <tr>\n",
              "      <th>46755</th>\n",
              "      <td>(и, затем, программирует)</td>\n",
              "      <td>и</td>\n",
              "      <td>и</td>\n",
              "      <td>CONJ</td>\n",
              "      <td>затем</td>\n",
              "      <td>затем</td>\n",
              "      <td>ADVB</td>\n",
              "      <td>программирует</td>\n",
              "      <td>программировать</td>\n",
              "      <td>VERB</td>\n",
              "      <td>3466</td>\n",
              "      <td>[3466]</td>\n",
              "    </tr>\n",
              "    <tr>\n",
              "      <th>46756</th>\n",
              "      <td>(затем, программирует, их)</td>\n",
              "      <td>затем</td>\n",
              "      <td>затем</td>\n",
              "      <td>ADVB</td>\n",
              "      <td>программирует</td>\n",
              "      <td>программировать</td>\n",
              "      <td>VERB</td>\n",
              "      <td>их</td>\n",
              "      <td>они</td>\n",
              "      <td>NPRO</td>\n",
              "      <td>3466</td>\n",
              "      <td>[3466]</td>\n",
              "    </tr>\n",
              "    <tr>\n",
              "      <th>46757</th>\n",
              "      <td>(программирует, их, работу)</td>\n",
              "      <td>программирует</td>\n",
              "      <td>программировать</td>\n",
              "      <td>VERB</td>\n",
              "      <td>их</td>\n",
              "      <td>они</td>\n",
              "      <td>NPRO</td>\n",
              "      <td>работу</td>\n",
              "      <td>работа</td>\n",
              "      <td>NOUN</td>\n",
              "      <td>3466</td>\n",
              "      <td>[3466]</td>\n",
              "    </tr>\n",
              "  </tbody>\n",
              "</table>\n",
              "<p>46758 rows × 12 columns</p>\n",
              "</div>"
            ],
            "text/plain": [
              "                         tri_token uni_first_token  ... Sent_ids     Ids\n",
              "0                 (в, июне, этого)               в  ...        0     [0]\n",
              "1              (июне, этого, года)            июне  ...        0     [0]\n",
              "2           (этого, года, девушка)           этого  ...        0     [0]\n",
              "3              (года, девушка, по)            года  ...        0     [0]\n",
              "4             (девушка, по, имени)         девушка  ...        0     [0]\n",
              "...                            ...             ...  ...      ...     ...\n",
              "46753  (устанавливает, датчики, и)   устанавливает  ...     3466  [3466]\n",
              "46754          (датчики, и, затем)         датчики  ...     3466  [3466]\n",
              "46755    (и, затем, программирует)               и  ...     3466  [3466]\n",
              "46756   (затем, программирует, их)           затем  ...     3466  [3466]\n",
              "46757  (программирует, их, работу)   программирует  ...     3466  [3466]\n",
              "\n",
              "[46758 rows x 12 columns]"
            ]
          },
          "metadata": {
            "tags": []
          },
          "execution_count": 29
        }
      ]
    },
    {
      "cell_type": "code",
      "metadata": {
        "id": "KXWWUH5t06Gw",
        "outputId": "af5707a8-71a0-4c39-b7d3-9709a1f16dc2",
        "colab": {
          "base_uri": "https://localhost:8080/",
          "height": 17
        }
      },
      "source": [
        "# Для скачивания tsv с триграммами\n",
        "from google.colab import files\n",
        "tri_df.to_csv('tri_df.tsv', sep='\\t', index=False)\n",
        "files.download('tri_df.tsv')"
      ],
      "execution_count": null,
      "outputs": [
        {
          "output_type": "display_data",
          "data": {
            "application/javascript": [
              "\n",
              "    async function download(id, filename, size) {\n",
              "      if (!google.colab.kernel.accessAllowed) {\n",
              "        return;\n",
              "      }\n",
              "      const div = document.createElement('div');\n",
              "      const label = document.createElement('label');\n",
              "      label.textContent = `Downloading \"${filename}\": `;\n",
              "      div.appendChild(label);\n",
              "      const progress = document.createElement('progress');\n",
              "      progress.max = size;\n",
              "      div.appendChild(progress);\n",
              "      document.body.appendChild(div);\n",
              "\n",
              "      const buffers = [];\n",
              "      let downloaded = 0;\n",
              "\n",
              "      const channel = await google.colab.kernel.comms.open(id);\n",
              "      // Send a message to notify the kernel that we're ready.\n",
              "      channel.send({})\n",
              "\n",
              "      for await (const message of channel.messages) {\n",
              "        // Send a message to notify the kernel that we're ready.\n",
              "        channel.send({})\n",
              "        if (message.buffers) {\n",
              "          for (const buffer of message.buffers) {\n",
              "            buffers.push(buffer);\n",
              "            downloaded += buffer.byteLength;\n",
              "            progress.value = downloaded;\n",
              "          }\n",
              "        }\n",
              "      }\n",
              "      const blob = new Blob(buffers, {type: 'application/binary'});\n",
              "      const a = document.createElement('a');\n",
              "      a.href = window.URL.createObjectURL(blob);\n",
              "      a.download = filename;\n",
              "      div.appendChild(a);\n",
              "      a.click();\n",
              "      div.remove();\n",
              "    }\n",
              "  "
            ],
            "text/plain": [
              "<IPython.core.display.Javascript object>"
            ]
          },
          "metadata": {
            "tags": []
          }
        },
        {
          "output_type": "display_data",
          "data": {
            "application/javascript": [
              "download(\"download_5053157d-4ff5-4948-ab6d-6876828f09c9\", \"tri_df.tsv\", 7185528)"
            ],
            "text/plain": [
              "<IPython.core.display.Javascript object>"
            ]
          },
          "metadata": {
            "tags": []
          }
        }
      ]
    },
    {
      "cell_type": "code",
      "metadata": {
        "id": "6NPLm3YR1_Co"
      },
      "source": [
        "uni_df = pd.read_csv('https://raw.githubusercontent.com/tbkazakova/autobr_femcorpus/main/uni_df.tsv', sep='\\t', header=0, names=['Token1', 'Lemma1', 'POS1', 'Sent_ids'], index_col=False) "
      ],
      "execution_count": null,
      "outputs": []
    },
    {
      "cell_type": "code",
      "metadata": {
        "id": "abxrbKBW2Dno"
      },
      "source": [
        "bi_df = pd.read_csv('https://raw.githubusercontent.com/tbkazakova/autobr_femcorpus/main/bi_df.tsv', sep='\\t', header=0, names=['bi_token', 'Token1', 'Lemma1', 'POS1', 'Token2', 'Lemma2', 'POS2', 'Sent_ids'], index_col=False) "
      ],
      "execution_count": null,
      "outputs": []
    },
    {
      "cell_type": "code",
      "metadata": {
        "id": "ElBf5sYb2Edc"
      },
      "source": [
        "tri_df = pd.read_csv('https://raw.githubusercontent.com/tbkazakova/autobr_femcorpus/main/tri_df.tsv', sep='\\t', header=0, names=['tri_token', 'Token1', 'Lemma1', 'POS1', 'Token2', 'Lemma2', 'POS2', 'Token3', 'Lemma3', 'POS3', 'Sent_ids'], index_col=False) "
      ],
      "execution_count": null,
      "outputs": []
    },
    {
      "cell_type": "markdown",
      "metadata": {
        "id": "zKf4xvc3nBCJ"
      },
      "source": [
        "## ПОИСК"
      ]
    },
    {
      "cell_type": "markdown",
      "metadata": {
        "id": "wrGqwoA8hJ58"
      },
      "source": [
        "Вариант без выделения искомого. Выдача - таблица."
      ]
    },
    {
      "cell_type": "code",
      "metadata": {
        "id": "7JecjLXcq_RB"
      },
      "source": [
        "POStags = ['NOUN', 'ADJF', 'ADJS', 'COMP', 'VERB', 'INFN', 'PRTF', 'PRTS', 'GRND', 'NUMR', 'ADVB', 'NPRO', 'PRED', 'PREP', 'CONJ', 'PRCL', 'INTJ', 'None']\n",
        "trash_symbols = '!\"#$%&\\'-()*+,./:;<=>?@[\\\\]^_`{|}~«»—'\n",
        "\n",
        "def make_condition(req, index):\n",
        "    if '+' in req:\n",
        "        req = req.split('+')\n",
        "        req[0] = req[0].strip('\"').lower()\n",
        "        req[1] = req[1].strip('\"')\n",
        "        cond = f'Token{index} == \"{req[0]}\" and POS{index} == \"{req[1]}\"'\n",
        "    elif req.startswith('\"') and req.endswith('\"'):\n",
        "        req = req.lower()\n",
        "        req = req.replace('\"', '')\n",
        "        cond = f'Token{index} == \"{req}\"'\n",
        "    elif req in POStags:\n",
        "        cond = f'POS{index} == \"{req}\"'\n",
        "    else:\n",
        "        req = req.strip(trash_symbols).lower()\n",
        "        req = morph.parse(req)[0].normal_form\n",
        "        cond = f'Lemma{index} == \"{req}\"'\n",
        "    return cond\n",
        "\n",
        "def get_sentences(req, df):\n",
        "    conditions = []\n",
        "    for i, w in enumerate(req.split()):\n",
        "        conditions.append(make_condition(w, i+1))\n",
        "    condition = ' and '.join(conditions)\n",
        "    print(condition)\n",
        "    sent_ids = fix_ids(' '.join(df.query(condition)['Sent_ids'].values.tolist()))\n",
        "    sentences = sent_df.loc[sent_ids]\n",
        "    \n",
        "    \n",
        "    return sentences"
      ],
      "execution_count": 180,
      "outputs": []
    },
    {
      "cell_type": "code",
      "metadata": {
        "id": "l2GpTF8drPWM"
      },
      "source": [
        "def get_answer(req):\n",
        "    if len(req.split()) == 1:\n",
        "        res = get_sentences(req, uni_df)\n",
        "    elif len(req.split()) == 2:\n",
        "        res = get_sentences(req, bi_df)\n",
        "    elif len(req.split()) == 3:\n",
        "        res = get_sentences(req, tri_df)\n",
        "    else:\n",
        "        print('Запрос в неправильном формате.')\n",
        "        \n",
        "    return res"
      ],
      "execution_count": 181,
      "outputs": []
    },
    {
      "cell_type": "code",
      "metadata": {
        "id": "K5u1r6NTrTCc",
        "outputId": "e6ba2101-3a48-44a1-c45a-926d9c8749b2",
        "colab": {
          "base_uri": "https://localhost:8080/",
          "height": 466
        }
      },
      "source": [
        "get_answer('\"в\" ADJF время') "
      ],
      "execution_count": 182,
      "outputs": [
        {
          "output_type": "stream",
          "text": [
            "Token1 == \"в\" and POS2 == \"ADJF\" and Lemma3 == \"время\"\n"
          ],
          "name": "stdout"
        },
        {
          "output_type": "execute_result",
          "data": {
            "text/html": [
              "<div>\n",
              "<style scoped>\n",
              "    .dataframe tbody tr th:only-of-type {\n",
              "        vertical-align: middle;\n",
              "    }\n",
              "\n",
              "    .dataframe tbody tr th {\n",
              "        vertical-align: top;\n",
              "    }\n",
              "\n",
              "    .dataframe thead th {\n",
              "        text-align: right;\n",
              "    }\n",
              "</style>\n",
              "<table border=\"1\" class=\"dataframe\">\n",
              "  <thead>\n",
              "    <tr style=\"text-align: right;\">\n",
              "      <th></th>\n",
              "      <th>URL</th>\n",
              "      <th>Date</th>\n",
              "      <th>Sentence</th>\n",
              "      <th>Clean_sentence</th>\n",
              "    </tr>\n",
              "  </thead>\n",
              "  <tbody>\n",
              "    <tr>\n",
              "      <th>1391</th>\n",
              "      <td>https://vk.com/public46661081?w=wall-46661081_...</td>\n",
              "      <td>2020-10-14 17:30:02</td>\n",
              "      <td>В ООН в настоящее время входит 193 государства.</td>\n",
              "      <td>в оон в настоящее время входит государства</td>\n",
              "    </tr>\n",
              "    <tr>\n",
              "      <th>2636</th>\n",
              "      <td>https://vk.com/public46661081?w=wall-46661081_...</td>\n",
              "      <td>2020-09-28 17:30:01</td>\n",
              "      <td>Ведущий в элегантной манере представил его как...</td>\n",
              "      <td>ведущий в элегантной манере представил его как...</td>\n",
              "    </tr>\n",
              "    <tr>\n",
              "      <th>290</th>\n",
              "      <td>https://vk.com/public182023900?w=wall-18202390...</td>\n",
              "      <td>2019-12-18 14:00:03</td>\n",
              "      <td>В настоящее время женщины могут делать, что он...</td>\n",
              "      <td>в настоящее время женщины могут делать что они...</td>\n",
              "    </tr>\n",
              "    <tr>\n",
              "      <th>371</th>\n",
              "      <td>https://vk.com/public182023900?w=wall-18202390...</td>\n",
              "      <td>2019-10-04 19:41:56</td>\n",
              "      <td>Итак, устранение бинарности пола в последнее в...</td>\n",
              "      <td>итак устранение бинарности пола в последнее вр...</td>\n",
              "    </tr>\n",
              "    <tr>\n",
              "      <th>590</th>\n",
              "      <td>https://vk.com/public182023900?w=wall-18202390...</td>\n",
              "      <td>2019-07-06 07:00:05</td>\n",
              "      <td>И её беспокоят современные тенденции, из-за ко...</td>\n",
              "      <td>и её беспокоят современные тенденции из-за кот...</td>\n",
              "    </tr>\n",
              "    <tr>\n",
              "      <th>278</th>\n",
              "      <td>https://vk.com/public182023900?w=wall-18202390...</td>\n",
              "      <td>2019-12-23 15:01:15</td>\n",
              "      <td>«Почему вопрос пола никогда не был таким сложн...</td>\n",
              "      <td>почему вопрос пола никогда не был таким сложны...</td>\n",
              "    </tr>\n",
              "    <tr>\n",
              "      <th>506</th>\n",
              "      <td>https://vk.com/public182023900?w=wall-18202390...</td>\n",
              "      <td>2019-07-30 17:00:09</td>\n",
              "      <td>В растущей алфавитной каше, в нынешнее время с...</td>\n",
              "      <td>в растущей алфавитной каше в нынешнее время со...</td>\n",
              "    </tr>\n",
              "    <tr>\n",
              "      <th>611</th>\n",
              "      <td>https://vk.com/public182023900?w=wall-18202390...</td>\n",
              "      <td>2019-06-21 09:06:02</td>\n",
              "      <td>В настоящее время я беседую со многими молодым...</td>\n",
              "      <td>в настоящее время я беседую со многими молодым...</td>\n",
              "    </tr>\n",
              "    <tr>\n",
              "      <th>26</th>\n",
              "      <td>https://vk.com/public182023900?w=wall-18202390...</td>\n",
              "      <td>2020-09-23 16:13:27</td>\n",
              "      <td>Вот почему цивилизация полностью разрушилась в...</td>\n",
              "      <td>вот почему цивилизация полностью разрушилась в...</td>\n",
              "    </tr>\n",
              "    <tr>\n",
              "      <th>2368</th>\n",
              "      <td>https://vk.com/public46661081?w=wall-46661081_...</td>\n",
              "      <td>2020-10-03 17:30:01</td>\n",
              "      <td>Одного из подозреваемых около 20 лет назад осу...</td>\n",
              "      <td>одного из подозреваемых около лет назад осудил...</td>\n",
              "    </tr>\n",
              "    <tr>\n",
              "      <th>1763</th>\n",
              "      <td>https://vk.com/public46661081?w=wall-46661081_...</td>\n",
              "      <td>2020-10-11 07:30:01</td>\n",
              "      <td>Образованные и квалифицированные рабочие польз...</td>\n",
              "      <td>образованные и квалифицированные рабочие польз...</td>\n",
              "    </tr>\n",
              "    <tr>\n",
              "      <th>3141</th>\n",
              "      <td>https://vk.com/public46661081?w=wall-46661081_...</td>\n",
              "      <td>2020-09-26 07:30:02</td>\n",
              "      <td>Однако новый сериал вдруг привлек внимание к т...</td>\n",
              "      <td>однако новый сериал вдруг привлек внимание к т...</td>\n",
              "    </tr>\n",
              "    <tr>\n",
              "      <th>1211</th>\n",
              "      <td>https://vk.com/public46661081?w=wall-46661081_...</td>\n",
              "      <td>2020-10-16 17:30:02</td>\n",
              "      <td>Демонстрация прототипа, который в настоящее вр...</td>\n",
              "      <td>демонстрация прототипа который в настоящее вре...</td>\n",
              "    </tr>\n",
              "    <tr>\n",
              "      <th>1856</th>\n",
              "      <td>https://vk.com/public46661081?w=wall-46661081_...</td>\n",
              "      <td>2020-10-09 07:30:03</td>\n",
              "      <td>В региональном СК заявили, что в ближайшее вре...</td>\n",
              "      <td>в региональном ск заявили что в ближайшее врем...</td>\n",
              "    </tr>\n",
              "  </tbody>\n",
              "</table>\n",
              "</div>"
            ],
            "text/plain": [
              "                                                    URL  ...                                     Clean_sentence\n",
              "1391  https://vk.com/public46661081?w=wall-46661081_...  ...         в оон в настоящее время входит государства\n",
              "2636  https://vk.com/public46661081?w=wall-46661081_...  ...  ведущий в элегантной манере представил его как...\n",
              "290   https://vk.com/public182023900?w=wall-18202390...  ...  в настоящее время женщины могут делать что они...\n",
              "371   https://vk.com/public182023900?w=wall-18202390...  ...  итак устранение бинарности пола в последнее вр...\n",
              "590   https://vk.com/public182023900?w=wall-18202390...  ...  и её беспокоят современные тенденции из-за кот...\n",
              "278   https://vk.com/public182023900?w=wall-18202390...  ...  почему вопрос пола никогда не был таким сложны...\n",
              "506   https://vk.com/public182023900?w=wall-18202390...  ...  в растущей алфавитной каше в нынешнее время со...\n",
              "611   https://vk.com/public182023900?w=wall-18202390...  ...  в настоящее время я беседую со многими молодым...\n",
              "26    https://vk.com/public182023900?w=wall-18202390...  ...  вот почему цивилизация полностью разрушилась в...\n",
              "2368  https://vk.com/public46661081?w=wall-46661081_...  ...  одного из подозреваемых около лет назад осудил...\n",
              "1763  https://vk.com/public46661081?w=wall-46661081_...  ...  образованные и квалифицированные рабочие польз...\n",
              "3141  https://vk.com/public46661081?w=wall-46661081_...  ...  однако новый сериал вдруг привлек внимание к т...\n",
              "1211  https://vk.com/public46661081?w=wall-46661081_...  ...  демонстрация прототипа который в настоящее вре...\n",
              "1856  https://vk.com/public46661081?w=wall-46661081_...  ...  в региональном ск заявили что в ближайшее врем...\n",
              "\n",
              "[14 rows x 4 columns]"
            ]
          },
          "metadata": {
            "tags": []
          },
          "execution_count": 182
        }
      ]
    },
    {
      "cell_type": "markdown",
      "metadata": {
        "id": "AJ5i5faraCXb"
      },
      "source": [
        "## Вариант с выделением **искомого**"
      ]
    },
    {
      "cell_type": "code",
      "metadata": {
        "id": "ifgdciaBEbK-"
      },
      "source": [
        "class bcolors:\n",
        "    CBLACK  = '\\33[30m'\n",
        "    FAIL = '\\033[91m'\n",
        "  "
      ],
      "execution_count": null,
      "outputs": []
    },
    {
      "cell_type": "code",
      "metadata": {
        "id": "WS3DQRDT8KNp"
      },
      "source": [
        "def light_up_print(ind, line, sentence, url):\n",
        "  if sentence[0] == ' ':\n",
        "    sent = ' ' + sentence[1].lower() + sentence[2:]\n",
        "  else:\n",
        "    sent = ' ' + sentence[0].lower() + sentence[1:]\n",
        "  reg = re.compile(f'([^а-яА-Я]{line}[^а-яА-Я])')\n",
        "  l = re.split(reg, sent)\n",
        "  print(bcolors.CBLACK + ind, end=' ')\n",
        "  for i in range(len(l)):\n",
        "    if (i%2) == 0:\n",
        "      if i == 0 and l[0] != '':\n",
        "        print(bcolors.CBLACK + l[i][1].capitalize(), bcolors.CBLACK + l[i][2:], sep='', end='')\n",
        "      else:\n",
        "        print(bcolors.CBLACK + l[i], end='')\n",
        "    else:\n",
        "      if i == 1  and l[0] == '':\n",
        "        print(bcolors.FAIL + l[i][1].capitalize(), bcolors.FAIL + l[i][2:], sep='', end='')\n",
        "      else:  \n",
        "        print(bcolors.FAIL + l[i], end='')\n",
        "  print(bcolors.CBLACK +'\\n(', bcolors.CBLACK + url, bcolors.CBLACK + ')')\n",
        "    \n",
        "    "
      ],
      "execution_count": null,
      "outputs": []
    },
    {
      "cell_type": "code",
      "metadata": {
        "id": "tMskvZOpY_oC"
      },
      "source": [
        "POStags = ['NOUN', 'ADJF', 'ADJS', 'COMP', 'VERB', 'INFN', 'PRTF', 'PRTS', 'GRND', 'NUMR', 'ADVB', 'NPRO', 'PRED', 'PREP', 'CONJ', 'PRCL', 'INTJ', 'None']\n",
        "trash_symbols = '!\"#$%&\\'-()*+,./:;<=>?@[\\\\]^_`{|}~«»—'\n",
        "\n",
        "def make_condition(req, index):\n",
        "    if '+' in req:\n",
        "        req = req.split('+')\n",
        "        req[0] = req[0].strip('\"').lower()\n",
        "        req[1] = req[1].strip('\"')\n",
        "        cond = f'Token{index} == \"{req[0]}\" and POS{index} == \"{req[1]}\"'\n",
        "    elif req.startswith('\"') and req.endswith('\"'):\n",
        "        req = req.lower()\n",
        "        req = req.replace('\"', '')\n",
        "        cond = f'Token{index} == \"{req}\"'\n",
        "    elif req in POStags:\n",
        "        cond = f'POS{index} == \"{req}\"'\n",
        "    else:\n",
        "        req = req.strip(trash_symbols).lower()\n",
        "        req = morph.parse(req)[0].normal_form\n",
        "        cond = f'Lemma{index} == \"{req}\"'\n",
        "    return cond\n",
        "\n",
        "def get_sentences(req, df):\n",
        "    conditions = []\n",
        "    lines = []\n",
        "    for i, w in enumerate(req.split()):\n",
        "        cond = make_condition(w, i+1)\n",
        "        conditions.append(cond)\n",
        "\n",
        "    condition = ' and '.join(conditions)\n",
        "    tokens = df.query(condition)\n",
        "    \n",
        "    if i == 2:\n",
        "      size = 'tri_token'\n",
        "    if i == 1:\n",
        "      size = 'bi_token'\n",
        "    if i == 0:\n",
        "      size = 'Token1'\n",
        "    for el in tokens[size].values.tolist():\n",
        "      reg = re.compile('[а-яА-Я0-9_]+')\n",
        "      a = reg.findall(el)\n",
        "      s = ' '.join(a)\n",
        "      lines.append(s)\n",
        "    sent_ids = df.query(condition)['Sent_ids']\n",
        "    if len(tokens[size].values.tolist()) == 0:\n",
        "      print('По вашему запросу ничего не нашлось.')\n",
        "    else:\n",
        "      for i, line in zip(sent_ids, lines):\n",
        "        for ind in i.split():\n",
        "          light_up_print(ind, line, ' ' + sent_df.loc[int(ind)]['Sentence'], sent_df.loc[int(ind)]['URL'])\n",
        "    "
      ],
      "execution_count": 183,
      "outputs": []
    },
    {
      "cell_type": "code",
      "metadata": {
        "id": "PIy2ZM6SY6Oq"
      },
      "source": [
        "def get_answer():\n",
        "    req = input('Введите ваш запрос: ')\n",
        "    if len(req.split()) == 1:\n",
        "        get_sentences(req, uni_df)\n",
        "    elif len(req.split()) == 2:\n",
        "        get_sentences(req, bi_df)\n",
        "    elif len(req.split()) == 3:\n",
        "        get_sentences(req, tri_df)\n",
        "    else:\n",
        "        print('Запрос в неправильном формате.')\n",
        "    "
      ],
      "execution_count": 184,
      "outputs": []
    },
    {
      "cell_type": "code",
      "metadata": {
        "id": "_obb20LqZFuL",
        "outputId": "6c17cf6d-75ba-4bdf-c25f-4f150484afec",
        "colab": {
          "base_uri": "https://localhost:8080/",
          "height": 411
        }
      },
      "source": [
        "get_answer()"
      ],
      "execution_count": 193,
      "outputs": [
        {
          "output_type": "stream",
          "text": [
            "Введите ваш запрос: NUMR женщина\n",
            "\u001b[30m536 \u001b[30mД\u001b[30mвадцать\u001b[91m две женщины \u001b[30mподали в суд на компанию по производству порнографии за мошенничество, принуждение и введение в заблуждение  Согласно материалам дела, «Girls Do Porn» размещали объявления на площадке Craigslist о подработке моделью, но заинтересовавшиеся объявлением женщины выясняли, что на самом деле компания собирается снимать порно.\u001b[30m\n",
            "( \u001b[30mhttps://vk.com/public182023900?w=wall-182023900_145 \u001b[30m)\n",
            "\u001b[30m641 \u001b[30m\u001b[91mО\u001b[91mбе женщины \u001b[30mвскоре были доставлены в больницу с повреждениями лица, но на данный момент их уже выписали.\u001b[30m\n",
            "( \u001b[30mhttps://vk.com/public182023900?w=wall-182023900_34 \u001b[30m)\n",
            "\u001b[30m3321 \u001b[30m«\u001b[30mОчевидно, что нарушены конституционные права женщин на личную неприкосновенность»  Юрист АНО  Синяя Птица  Ольга Неклюдова рассказала NewsVo, что\u001b[91m обе женщины,\u001b[30m страдающие от преследований бывших мужей, домашних тиранов, обратились в их организацию летом 2020 года.\u001b[30m\n",
            "( \u001b[30mhttps://vk.com/public46661081?w=wall-46661081_76215 \u001b[30m)\n",
            "\u001b[30m642 \u001b[30mС\u001b[30mтарший детектив Энди Кокс прокомментировал сложившуюся ситуацию так: «Произошло просто отвратительное нападение на\u001b[91m двух женщин,\u001b[30m которых, похоже, молодые люди сознательно выбрали в качестве потенциальных жертв.\u001b[30m\n",
            "( \u001b[30mhttps://vk.com/public182023900?w=wall-182023900_34 \u001b[30m)\n",
            "\u001b[30m2651 \u001b[30mА\u001b[30m позднее было доказано, что на момент съемок Алькала отнял жизни как минимум у\u001b[91m двух женщин.\u001b[30m\u001b[30m\n",
            "( \u001b[30mhttps://vk.com/public46661081?w=wall-46661081_76245 \u001b[30m)\n",
            "\u001b[30m3006 \u001b[30mВ\u001b[30mОСКРЕСНЫЙ КИНОСЕАНС С [club46661081|Soc-Fem]: ТАЙНАЯ ЛЮБОВЬ   Тайная любовь  - документальный фильм, рассказывающий историю любви\u001b[91m двух женщин \u001b[30m– Терри Донахью и Пэт Хеншель, которые долгое время скрывали свои отношения от близких.\u001b[30m\n",
            "( \u001b[30mhttps://vk.com/public46661081?w=wall-46661081_76236 \u001b[30m)\n",
            "\u001b[30m1336 \u001b[30mХ\u001b[30mотим представить\u001b[91m десять женщин \u001b[30m- десять мощных татуировок, которые превратили борьбу с раком груди в искусство.\u001b[30m\n",
            "( \u001b[30mhttps://vk.com/public46661081?w=wall-46661081_76372 \u001b[30m)\n",
            "\u001b[30m1610 \u001b[30mЕ\u001b[30mе поражает, почему так\u001b[91m мало женщин \u001b[30mпоступает так же.\u001b[30m\n",
            "( \u001b[30mhttps://vk.com/public46661081?w=wall-46661081_76345 \u001b[30m)\n",
            "\u001b[30m2518 \u001b[30mО\u001b[30mна была одной из\u001b[91m пяти женщин,\u001b[30m подготовивших к публикации протоколы съезда.\u001b[30m\n",
            "( \u001b[30mhttps://vk.com/public46661081?w=wall-46661081_76264 \u001b[30m)\n",
            "\u001b[30m3014 \u001b[30m“\u001b[30mТайная любовь” – это документальный фильм не о ЛГБТ-активистках, которые пытались утвердить свои права и добиться принятия в обществе, а о\u001b[91m двух женщинах,\u001b[30m которые однажды встретились, поняли, что полюбили друг друга, и решили строить свой комфортный мир вместе, держа его в секрете, чтобы никто его не разрушил.\u001b[30m\n",
            "( \u001b[30mhttps://vk.com/public46661081?w=wall-46661081_76236 \u001b[30m)\n",
            "\u001b[30m3143 \u001b[30mФ\u001b[30mедерация профсоюзов Уханя также сообщает, что из 13 человек, получивших грамоту  Национальный передовик  за борьбу с Covid-19, только четверо - женщины.\u001b[30m\n",
            "( \u001b[30mhttps://vk.com/public46661081?w=wall-46661081_76225 \u001b[30m)\n"
          ],
          "name": "stdout"
        }
      ]
    }
  ]
}