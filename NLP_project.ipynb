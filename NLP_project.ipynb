{
  "nbformat": 4,
  "nbformat_minor": 0,
  "metadata": {
    "colab": {
      "name": "NLP_project.ipynb",
      "provenance": [],
      "collapsed_sections": []
    },
    "kernelspec": {
      "display_name": "Python 3",
      "name": "python3"
    },
    "widgets": {
      "application/vnd.jupyter.widget-state+json": {
        "daacf7c69b3c4cd89b519ef08a40964c": {
          "model_module": "@jupyter-widgets/controls",
          "model_name": "HBoxModel",
          "state": {
            "_view_name": "HBoxView",
            "_dom_classes": [],
            "_model_name": "HBoxModel",
            "_view_module": "@jupyter-widgets/controls",
            "_model_module_version": "1.5.0",
            "_view_count": null,
            "_view_module_version": "1.5.0",
            "box_style": "",
            "layout": "IPY_MODEL_1fc9bee646b5481b8f680a156e90e884",
            "_model_module": "@jupyter-widgets/controls",
            "children": [
              "IPY_MODEL_56ebda0b549442dabd908034fbb7b296",
              "IPY_MODEL_0af2f9ac7f42463dbe2c9ec210bf6d3d"
            ]
          }
        },
        "1fc9bee646b5481b8f680a156e90e884": {
          "model_module": "@jupyter-widgets/base",
          "model_name": "LayoutModel",
          "state": {
            "_view_name": "LayoutView",
            "grid_template_rows": null,
            "right": null,
            "justify_content": null,
            "_view_module": "@jupyter-widgets/base",
            "overflow": null,
            "_model_module_version": "1.2.0",
            "_view_count": null,
            "flex_flow": null,
            "width": null,
            "min_width": null,
            "border": null,
            "align_items": null,
            "bottom": null,
            "_model_module": "@jupyter-widgets/base",
            "top": null,
            "grid_column": null,
            "overflow_y": null,
            "overflow_x": null,
            "grid_auto_flow": null,
            "grid_area": null,
            "grid_template_columns": null,
            "flex": null,
            "_model_name": "LayoutModel",
            "justify_items": null,
            "grid_row": null,
            "max_height": null,
            "align_content": null,
            "visibility": null,
            "align_self": null,
            "height": null,
            "min_height": null,
            "padding": null,
            "grid_auto_rows": null,
            "grid_gap": null,
            "max_width": null,
            "order": null,
            "_view_module_version": "1.2.0",
            "grid_template_areas": null,
            "object_position": null,
            "object_fit": null,
            "grid_auto_columns": null,
            "margin": null,
            "display": null,
            "left": null
          }
        },
        "56ebda0b549442dabd908034fbb7b296": {
          "model_module": "@jupyter-widgets/controls",
          "model_name": "FloatProgressModel",
          "state": {
            "_view_name": "ProgressView",
            "style": "IPY_MODEL_17c50664b3a94c54a3e9e23255f1ed18",
            "_dom_classes": [],
            "description": "",
            "_model_name": "FloatProgressModel",
            "bar_style": "success",
            "max": 1,
            "_view_module": "@jupyter-widgets/controls",
            "_model_module_version": "1.5.0",
            "value": 1,
            "_view_count": null,
            "_view_module_version": "1.5.0",
            "orientation": "horizontal",
            "min": 0,
            "description_tooltip": null,
            "_model_module": "@jupyter-widgets/controls",
            "layout": "IPY_MODEL_6b4ec170777b4f369689f4f5e1ee452d"
          }
        },
        "0af2f9ac7f42463dbe2c9ec210bf6d3d": {
          "model_module": "@jupyter-widgets/controls",
          "model_name": "HTMLModel",
          "state": {
            "_view_name": "HTMLView",
            "style": "IPY_MODEL_34bbe64e4aa8493e9d5dbdf866df8ed9",
            "_dom_classes": [],
            "description": "",
            "_model_name": "HTMLModel",
            "placeholder": "​",
            "_view_module": "@jupyter-widgets/controls",
            "_model_module_version": "1.5.0",
            "value": " 3468/? [07:23&lt;00:00,  7.83it/s]",
            "_view_count": null,
            "_view_module_version": "1.5.0",
            "description_tooltip": null,
            "_model_module": "@jupyter-widgets/controls",
            "layout": "IPY_MODEL_36cf519eb37d4dda96d514953abe6a6f"
          }
        },
        "17c50664b3a94c54a3e9e23255f1ed18": {
          "model_module": "@jupyter-widgets/controls",
          "model_name": "ProgressStyleModel",
          "state": {
            "_view_name": "StyleView",
            "_model_name": "ProgressStyleModel",
            "description_width": "initial",
            "_view_module": "@jupyter-widgets/base",
            "_model_module_version": "1.5.0",
            "_view_count": null,
            "_view_module_version": "1.2.0",
            "bar_color": null,
            "_model_module": "@jupyter-widgets/controls"
          }
        },
        "6b4ec170777b4f369689f4f5e1ee452d": {
          "model_module": "@jupyter-widgets/base",
          "model_name": "LayoutModel",
          "state": {
            "_view_name": "LayoutView",
            "grid_template_rows": null,
            "right": null,
            "justify_content": null,
            "_view_module": "@jupyter-widgets/base",
            "overflow": null,
            "_model_module_version": "1.2.0",
            "_view_count": null,
            "flex_flow": null,
            "width": null,
            "min_width": null,
            "border": null,
            "align_items": null,
            "bottom": null,
            "_model_module": "@jupyter-widgets/base",
            "top": null,
            "grid_column": null,
            "overflow_y": null,
            "overflow_x": null,
            "grid_auto_flow": null,
            "grid_area": null,
            "grid_template_columns": null,
            "flex": null,
            "_model_name": "LayoutModel",
            "justify_items": null,
            "grid_row": null,
            "max_height": null,
            "align_content": null,
            "visibility": null,
            "align_self": null,
            "height": null,
            "min_height": null,
            "padding": null,
            "grid_auto_rows": null,
            "grid_gap": null,
            "max_width": null,
            "order": null,
            "_view_module_version": "1.2.0",
            "grid_template_areas": null,
            "object_position": null,
            "object_fit": null,
            "grid_auto_columns": null,
            "margin": null,
            "display": null,
            "left": null
          }
        },
        "34bbe64e4aa8493e9d5dbdf866df8ed9": {
          "model_module": "@jupyter-widgets/controls",
          "model_name": "DescriptionStyleModel",
          "state": {
            "_view_name": "StyleView",
            "_model_name": "DescriptionStyleModel",
            "description_width": "",
            "_view_module": "@jupyter-widgets/base",
            "_model_module_version": "1.5.0",
            "_view_count": null,
            "_view_module_version": "1.2.0",
            "_model_module": "@jupyter-widgets/controls"
          }
        },
        "36cf519eb37d4dda96d514953abe6a6f": {
          "model_module": "@jupyter-widgets/base",
          "model_name": "LayoutModel",
          "state": {
            "_view_name": "LayoutView",
            "grid_template_rows": null,
            "right": null,
            "justify_content": null,
            "_view_module": "@jupyter-widgets/base",
            "overflow": null,
            "_model_module_version": "1.2.0",
            "_view_count": null,
            "flex_flow": null,
            "width": null,
            "min_width": null,
            "border": null,
            "align_items": null,
            "bottom": null,
            "_model_module": "@jupyter-widgets/base",
            "top": null,
            "grid_column": null,
            "overflow_y": null,
            "overflow_x": null,
            "grid_auto_flow": null,
            "grid_area": null,
            "grid_template_columns": null,
            "flex": null,
            "_model_name": "LayoutModel",
            "justify_items": null,
            "grid_row": null,
            "max_height": null,
            "align_content": null,
            "visibility": null,
            "align_self": null,
            "height": null,
            "min_height": null,
            "padding": null,
            "grid_auto_rows": null,
            "grid_gap": null,
            "max_width": null,
            "order": null,
            "_view_module_version": "1.2.0",
            "grid_template_areas": null,
            "object_position": null,
            "object_fit": null,
            "grid_auto_columns": null,
            "margin": null,
            "display": null,
            "left": null
          }
        },
        "30f20544c3b747939026e73e73a8c5be": {
          "model_module": "@jupyter-widgets/controls",
          "model_name": "HBoxModel",
          "state": {
            "_view_name": "HBoxView",
            "_dom_classes": [],
            "_model_name": "HBoxModel",
            "_view_module": "@jupyter-widgets/controls",
            "_model_module_version": "1.5.0",
            "_view_count": null,
            "_view_module_version": "1.5.0",
            "box_style": "",
            "layout": "IPY_MODEL_3c19095126124551bdd2017c04c01868",
            "_model_module": "@jupyter-widgets/controls",
            "children": [
              "IPY_MODEL_427009dbbb2a4076818294eafa1b93eb",
              "IPY_MODEL_6c96e379aab545438a125718992604cc"
            ]
          }
        },
        "3c19095126124551bdd2017c04c01868": {
          "model_module": "@jupyter-widgets/base",
          "model_name": "LayoutModel",
          "state": {
            "_view_name": "LayoutView",
            "grid_template_rows": null,
            "right": null,
            "justify_content": null,
            "_view_module": "@jupyter-widgets/base",
            "overflow": null,
            "_model_module_version": "1.2.0",
            "_view_count": null,
            "flex_flow": null,
            "width": null,
            "min_width": null,
            "border": null,
            "align_items": null,
            "bottom": null,
            "_model_module": "@jupyter-widgets/base",
            "top": null,
            "grid_column": null,
            "overflow_y": null,
            "overflow_x": null,
            "grid_auto_flow": null,
            "grid_area": null,
            "grid_template_columns": null,
            "flex": null,
            "_model_name": "LayoutModel",
            "justify_items": null,
            "grid_row": null,
            "max_height": null,
            "align_content": null,
            "visibility": null,
            "align_self": null,
            "height": null,
            "min_height": null,
            "padding": null,
            "grid_auto_rows": null,
            "grid_gap": null,
            "max_width": null,
            "order": null,
            "_view_module_version": "1.2.0",
            "grid_template_areas": null,
            "object_position": null,
            "object_fit": null,
            "grid_auto_columns": null,
            "margin": null,
            "display": null,
            "left": null
          }
        },
        "427009dbbb2a4076818294eafa1b93eb": {
          "model_module": "@jupyter-widgets/controls",
          "model_name": "FloatProgressModel",
          "state": {
            "_view_name": "ProgressView",
            "style": "IPY_MODEL_611444a8f3284916902e1b079211a3d6",
            "_dom_classes": [],
            "description": "",
            "_model_name": "FloatProgressModel",
            "bar_style": "success",
            "max": 1,
            "_view_module": "@jupyter-widgets/controls",
            "_model_module_version": "1.5.0",
            "value": 1,
            "_view_count": null,
            "_view_module_version": "1.5.0",
            "orientation": "horizontal",
            "min": 0,
            "description_tooltip": null,
            "_model_module": "@jupyter-widgets/controls",
            "layout": "IPY_MODEL_342097d52ad646d387360e5d4ae666e0"
          }
        },
        "6c96e379aab545438a125718992604cc": {
          "model_module": "@jupyter-widgets/controls",
          "model_name": "HTMLModel",
          "state": {
            "_view_name": "HTMLView",
            "style": "IPY_MODEL_619cdd48d12e4673a59628c195d7874b",
            "_dom_classes": [],
            "description": "",
            "_model_name": "HTMLModel",
            "placeholder": "​",
            "_view_module": "@jupyter-widgets/controls",
            "_model_module_version": "1.5.0",
            "value": " 3468/? [08:07&lt;00:00,  7.11it/s]",
            "_view_count": null,
            "_view_module_version": "1.5.0",
            "description_tooltip": null,
            "_model_module": "@jupyter-widgets/controls",
            "layout": "IPY_MODEL_bc2778f891b64a6bb47cd8b6f5c77d62"
          }
        },
        "611444a8f3284916902e1b079211a3d6": {
          "model_module": "@jupyter-widgets/controls",
          "model_name": "ProgressStyleModel",
          "state": {
            "_view_name": "StyleView",
            "_model_name": "ProgressStyleModel",
            "description_width": "initial",
            "_view_module": "@jupyter-widgets/base",
            "_model_module_version": "1.5.0",
            "_view_count": null,
            "_view_module_version": "1.2.0",
            "bar_color": null,
            "_model_module": "@jupyter-widgets/controls"
          }
        },
        "342097d52ad646d387360e5d4ae666e0": {
          "model_module": "@jupyter-widgets/base",
          "model_name": "LayoutModel",
          "state": {
            "_view_name": "LayoutView",
            "grid_template_rows": null,
            "right": null,
            "justify_content": null,
            "_view_module": "@jupyter-widgets/base",
            "overflow": null,
            "_model_module_version": "1.2.0",
            "_view_count": null,
            "flex_flow": null,
            "width": null,
            "min_width": null,
            "border": null,
            "align_items": null,
            "bottom": null,
            "_model_module": "@jupyter-widgets/base",
            "top": null,
            "grid_column": null,
            "overflow_y": null,
            "overflow_x": null,
            "grid_auto_flow": null,
            "grid_area": null,
            "grid_template_columns": null,
            "flex": null,
            "_model_name": "LayoutModel",
            "justify_items": null,
            "grid_row": null,
            "max_height": null,
            "align_content": null,
            "visibility": null,
            "align_self": null,
            "height": null,
            "min_height": null,
            "padding": null,
            "grid_auto_rows": null,
            "grid_gap": null,
            "max_width": null,
            "order": null,
            "_view_module_version": "1.2.0",
            "grid_template_areas": null,
            "object_position": null,
            "object_fit": null,
            "grid_auto_columns": null,
            "margin": null,
            "display": null,
            "left": null
          }
        },
        "619cdd48d12e4673a59628c195d7874b": {
          "model_module": "@jupyter-widgets/controls",
          "model_name": "DescriptionStyleModel",
          "state": {
            "_view_name": "StyleView",
            "_model_name": "DescriptionStyleModel",
            "description_width": "",
            "_view_module": "@jupyter-widgets/base",
            "_model_module_version": "1.5.0",
            "_view_count": null,
            "_view_module_version": "1.2.0",
            "_model_module": "@jupyter-widgets/controls"
          }
        },
        "bc2778f891b64a6bb47cd8b6f5c77d62": {
          "model_module": "@jupyter-widgets/base",
          "model_name": "LayoutModel",
          "state": {
            "_view_name": "LayoutView",
            "grid_template_rows": null,
            "right": null,
            "justify_content": null,
            "_view_module": "@jupyter-widgets/base",
            "overflow": null,
            "_model_module_version": "1.2.0",
            "_view_count": null,
            "flex_flow": null,
            "width": null,
            "min_width": null,
            "border": null,
            "align_items": null,
            "bottom": null,
            "_model_module": "@jupyter-widgets/base",
            "top": null,
            "grid_column": null,
            "overflow_y": null,
            "overflow_x": null,
            "grid_auto_flow": null,
            "grid_area": null,
            "grid_template_columns": null,
            "flex": null,
            "_model_name": "LayoutModel",
            "justify_items": null,
            "grid_row": null,
            "max_height": null,
            "align_content": null,
            "visibility": null,
            "align_self": null,
            "height": null,
            "min_height": null,
            "padding": null,
            "grid_auto_rows": null,
            "grid_gap": null,
            "max_width": null,
            "order": null,
            "_view_module_version": "1.2.0",
            "grid_template_areas": null,
            "object_position": null,
            "object_fit": null,
            "grid_auto_columns": null,
            "margin": null,
            "display": null,
            "left": null
          }
        },
        "d87d62c65e774bbd984f338183e742a0": {
          "model_module": "@jupyter-widgets/controls",
          "model_name": "HBoxModel",
          "state": {
            "_view_name": "HBoxView",
            "_dom_classes": [],
            "_model_name": "HBoxModel",
            "_view_module": "@jupyter-widgets/controls",
            "_model_module_version": "1.5.0",
            "_view_count": null,
            "_view_module_version": "1.5.0",
            "box_style": "",
            "layout": "IPY_MODEL_8fa6af48072f4d2486298f0ca34d54b4",
            "_model_module": "@jupyter-widgets/controls",
            "children": [
              "IPY_MODEL_16374cf94d3c47a497afd63921dd785c",
              "IPY_MODEL_586110ddb40144219c147cb8d65d604b"
            ]
          }
        },
        "8fa6af48072f4d2486298f0ca34d54b4": {
          "model_module": "@jupyter-widgets/base",
          "model_name": "LayoutModel",
          "state": {
            "_view_name": "LayoutView",
            "grid_template_rows": null,
            "right": null,
            "justify_content": null,
            "_view_module": "@jupyter-widgets/base",
            "overflow": null,
            "_model_module_version": "1.2.0",
            "_view_count": null,
            "flex_flow": null,
            "width": null,
            "min_width": null,
            "border": null,
            "align_items": null,
            "bottom": null,
            "_model_module": "@jupyter-widgets/base",
            "top": null,
            "grid_column": null,
            "overflow_y": null,
            "overflow_x": null,
            "grid_auto_flow": null,
            "grid_area": null,
            "grid_template_columns": null,
            "flex": null,
            "_model_name": "LayoutModel",
            "justify_items": null,
            "grid_row": null,
            "max_height": null,
            "align_content": null,
            "visibility": null,
            "align_self": null,
            "height": null,
            "min_height": null,
            "padding": null,
            "grid_auto_rows": null,
            "grid_gap": null,
            "max_width": null,
            "order": null,
            "_view_module_version": "1.2.0",
            "grid_template_areas": null,
            "object_position": null,
            "object_fit": null,
            "grid_auto_columns": null,
            "margin": null,
            "display": null,
            "left": null
          }
        },
        "16374cf94d3c47a497afd63921dd785c": {
          "model_module": "@jupyter-widgets/controls",
          "model_name": "FloatProgressModel",
          "state": {
            "_view_name": "ProgressView",
            "style": "IPY_MODEL_f6d3a5393dc443ebbcad7f91481f8884",
            "_dom_classes": [],
            "description": "",
            "_model_name": "FloatProgressModel",
            "bar_style": "success",
            "max": 1,
            "_view_module": "@jupyter-widgets/controls",
            "_model_module_version": "1.5.0",
            "value": 1,
            "_view_count": null,
            "_view_module_version": "1.5.0",
            "orientation": "horizontal",
            "min": 0,
            "description_tooltip": null,
            "_model_module": "@jupyter-widgets/controls",
            "layout": "IPY_MODEL_8e8a97506f764607a6e70e66c9c22633"
          }
        },
        "586110ddb40144219c147cb8d65d604b": {
          "model_module": "@jupyter-widgets/controls",
          "model_name": "HTMLModel",
          "state": {
            "_view_name": "HTMLView",
            "style": "IPY_MODEL_c17d2f19c74847499f0d49230d141287",
            "_dom_classes": [],
            "description": "",
            "_model_name": "HTMLModel",
            "placeholder": "​",
            "_view_module": "@jupyter-widgets/controls",
            "_model_module_version": "1.5.0",
            "value": " 3468/? [10:45&lt;00:00,  5.37it/s]",
            "_view_count": null,
            "_view_module_version": "1.5.0",
            "description_tooltip": null,
            "_model_module": "@jupyter-widgets/controls",
            "layout": "IPY_MODEL_3ec8a61f00634bbca7dbbdead466bc3e"
          }
        },
        "f6d3a5393dc443ebbcad7f91481f8884": {
          "model_module": "@jupyter-widgets/controls",
          "model_name": "ProgressStyleModel",
          "state": {
            "_view_name": "StyleView",
            "_model_name": "ProgressStyleModel",
            "description_width": "initial",
            "_view_module": "@jupyter-widgets/base",
            "_model_module_version": "1.5.0",
            "_view_count": null,
            "_view_module_version": "1.2.0",
            "bar_color": null,
            "_model_module": "@jupyter-widgets/controls"
          }
        },
        "8e8a97506f764607a6e70e66c9c22633": {
          "model_module": "@jupyter-widgets/base",
          "model_name": "LayoutModel",
          "state": {
            "_view_name": "LayoutView",
            "grid_template_rows": null,
            "right": null,
            "justify_content": null,
            "_view_module": "@jupyter-widgets/base",
            "overflow": null,
            "_model_module_version": "1.2.0",
            "_view_count": null,
            "flex_flow": null,
            "width": null,
            "min_width": null,
            "border": null,
            "align_items": null,
            "bottom": null,
            "_model_module": "@jupyter-widgets/base",
            "top": null,
            "grid_column": null,
            "overflow_y": null,
            "overflow_x": null,
            "grid_auto_flow": null,
            "grid_area": null,
            "grid_template_columns": null,
            "flex": null,
            "_model_name": "LayoutModel",
            "justify_items": null,
            "grid_row": null,
            "max_height": null,
            "align_content": null,
            "visibility": null,
            "align_self": null,
            "height": null,
            "min_height": null,
            "padding": null,
            "grid_auto_rows": null,
            "grid_gap": null,
            "max_width": null,
            "order": null,
            "_view_module_version": "1.2.0",
            "grid_template_areas": null,
            "object_position": null,
            "object_fit": null,
            "grid_auto_columns": null,
            "margin": null,
            "display": null,
            "left": null
          }
        },
        "c17d2f19c74847499f0d49230d141287": {
          "model_module": "@jupyter-widgets/controls",
          "model_name": "DescriptionStyleModel",
          "state": {
            "_view_name": "StyleView",
            "_model_name": "DescriptionStyleModel",
            "description_width": "",
            "_view_module": "@jupyter-widgets/base",
            "_model_module_version": "1.5.0",
            "_view_count": null,
            "_view_module_version": "1.2.0",
            "_model_module": "@jupyter-widgets/controls"
          }
        },
        "3ec8a61f00634bbca7dbbdead466bc3e": {
          "model_module": "@jupyter-widgets/base",
          "model_name": "LayoutModel",
          "state": {
            "_view_name": "LayoutView",
            "grid_template_rows": null,
            "right": null,
            "justify_content": null,
            "_view_module": "@jupyter-widgets/base",
            "overflow": null,
            "_model_module_version": "1.2.0",
            "_view_count": null,
            "flex_flow": null,
            "width": null,
            "min_width": null,
            "border": null,
            "align_items": null,
            "bottom": null,
            "_model_module": "@jupyter-widgets/base",
            "top": null,
            "grid_column": null,
            "overflow_y": null,
            "overflow_x": null,
            "grid_auto_flow": null,
            "grid_area": null,
            "grid_template_columns": null,
            "flex": null,
            "_model_name": "LayoutModel",
            "justify_items": null,
            "grid_row": null,
            "max_height": null,
            "align_content": null,
            "visibility": null,
            "align_self": null,
            "height": null,
            "min_height": null,
            "padding": null,
            "grid_auto_rows": null,
            "grid_gap": null,
            "max_width": null,
            "order": null,
            "_view_module_version": "1.2.0",
            "grid_template_areas": null,
            "object_position": null,
            "object_fit": null,
            "grid_auto_columns": null,
            "margin": null,
            "display": null,
            "left": null
          }
        }
      }
    }
  },
  "cells": [
    {
      "cell_type": "markdown",
      "metadata": {
        "id": "fL0YntyUDGtl"
      },
      "source": [
        "# Итоговый проект по курсу Автоматическая Обработка Естественного Языка\n",
        "#### Выполнили: Женя Егорова, Таня Казакова, Ксюша Кошкина, Настя Чижикова\n",
        "\n",
        "Корпус текстов собран из постов в пабликах Вконтакте, посвященных феминизму. Тексты выкачаны с помощью VK Api, на начальном этапе взято больше 100 постов длиной не менее 100 слов."
      ]
    },
    {
      "cell_type": "markdown",
      "metadata": {
        "id": "6FNwrbpGQ8Ti"
      },
      "source": [
        "Паблики: https://vk.com/socfem, https://vk.com/radfemtranslations"
      ]
    },
    {
      "cell_type": "markdown",
      "metadata": {
        "id": "0bMeBp_9D8Dq"
      },
      "source": [
        "from datetime import datetime\n",
        "import requests`\n",
        "from razdel import tokenize, sentenize"
      ]
    },
    {
      "cell_type": "code",
      "metadata": {
        "id": "Ws1fRNIwYaH2",
        "outputId": "fe508bcf-8ef8-4758-e291-1270b1113b50",
        "colab": {
          "base_uri": "https://localhost:8080/",
          "height": 682
        }
      },
      "source": [
        "pip install natasha"
      ],
      "execution_count": null,
      "outputs": [
        {
          "output_type": "stream",
          "text": [
            "Collecting natasha\n",
            "\u001b[?25l  Downloading https://files.pythonhosted.org/packages/83/34/9abb6b5c95993001518e517f21157e2c955749ac4f3c79dc3c2cf25e72fe/natasha-1.3.0-py3-none-any.whl (34.4MB)\n",
            "\u001b[K     |████████████████████████████████| 34.4MB 100kB/s \n",
            "\u001b[?25hCollecting yargy>=0.14.0\n",
            "\u001b[?25l  Downloading https://files.pythonhosted.org/packages/8e/07/94306844e3a5cb520660612ad98bce56c168edb596679bd541e68dfde089/yargy-0.14.0-py3-none-any.whl (41kB)\n",
            "\u001b[K     |████████████████████████████████| 51kB 4.0MB/s \n",
            "\u001b[?25hCollecting slovnet>=0.3.0\n",
            "\u001b[?25l  Downloading https://files.pythonhosted.org/packages/c2/6f/1c989335c9969421f771e4f0410ba70d82fe992ec9f3cbac9f432d8f5733/slovnet-0.4.0-py3-none-any.whl (49kB)\n",
            "\u001b[K     |████████████████████████████████| 51kB 3.9MB/s \n",
            "\u001b[?25hCollecting ipymarkup>=0.8.0\n",
            "  Downloading https://files.pythonhosted.org/packages/bf/9b/bf54c98d50735a4a7c84c71e92c5361730c878ebfe903d2c2d196ef66055/ipymarkup-0.9.0-py3-none-any.whl\n",
            "Collecting navec>=0.9.0\n",
            "  Downloading https://files.pythonhosted.org/packages/83/ad/554945ebee66fe83fefd61e043938981dd9e6136882025c506ac6faa6a4c/navec-0.9.0-py3-none-any.whl\n",
            "Collecting razdel>=0.5.0\n",
            "  Downloading https://files.pythonhosted.org/packages/15/2c/664223a3924aa6e70479f7d37220b3a658765b9cfe760b4af7ffdc50d38f/razdel-0.5.0-py3-none-any.whl\n",
            "Collecting pymorphy2\n",
            "\u001b[?25l  Downloading https://files.pythonhosted.org/packages/07/57/b2ff2fae3376d4f3c697b9886b64a54b476e1a332c67eee9f88e7f1ae8c9/pymorphy2-0.9.1-py3-none-any.whl (55kB)\n",
            "\u001b[K     |████████████████████████████████| 61kB 3.6MB/s \n",
            "\u001b[?25hRequirement already satisfied: numpy in /usr/local/lib/python3.6/dist-packages (from slovnet>=0.3.0->natasha) (1.18.5)\n",
            "Collecting intervaltree>=3\n",
            "  Downloading https://files.pythonhosted.org/packages/50/fb/396d568039d21344639db96d940d40eb62befe704ef849b27949ded5c3bb/intervaltree-3.1.0.tar.gz\n",
            "Collecting pymorphy2-dicts-ru<3.0,>=2.4\n",
            "\u001b[?25l  Downloading https://files.pythonhosted.org/packages/3a/79/bea0021eeb7eeefde22ef9e96badf174068a2dd20264b9a378f2be1cdd9e/pymorphy2_dicts_ru-2.4.417127.4579844-py2.py3-none-any.whl (8.2MB)\n",
            "\u001b[K     |████████████████████████████████| 8.2MB 25.0MB/s \n",
            "\u001b[?25hCollecting dawg-python>=0.7.1\n",
            "  Downloading https://files.pythonhosted.org/packages/6a/84/ff1ce2071d4c650ec85745766c0047ccc3b5036f1d03559fd46bb38b5eeb/DAWG_Python-0.7.2-py2.py3-none-any.whl\n",
            "Requirement already satisfied: docopt>=0.6 in /usr/local/lib/python3.6/dist-packages (from pymorphy2->natasha) (0.6.2)\n",
            "Requirement already satisfied: sortedcontainers<3.0,>=2.0 in /usr/local/lib/python3.6/dist-packages (from intervaltree>=3->ipymarkup>=0.8.0->natasha) (2.2.2)\n",
            "Building wheels for collected packages: intervaltree\n",
            "  Building wheel for intervaltree (setup.py) ... \u001b[?25l\u001b[?25hdone\n",
            "  Created wheel for intervaltree: filename=intervaltree-3.1.0-py2.py3-none-any.whl size=26100 sha256=4e8e4adbfcffaa208fdd372d14d66df2f3aad3c2eba901bf4e980d6733986db2\n",
            "  Stored in directory: /root/.cache/pip/wheels/f3/f2/66/e9c30d3e9499e65ea2fa0d07c002e64de63bd0adaa49c445bf\n",
            "Successfully built intervaltree\n",
            "Installing collected packages: pymorphy2-dicts-ru, dawg-python, pymorphy2, yargy, navec, razdel, slovnet, intervaltree, ipymarkup, natasha\n",
            "  Found existing installation: intervaltree 2.1.0\n",
            "    Uninstalling intervaltree-2.1.0:\n",
            "      Successfully uninstalled intervaltree-2.1.0\n",
            "Successfully installed dawg-python-0.7.2 intervaltree-3.1.0 ipymarkup-0.9.0 natasha-1.3.0 navec-0.9.0 pymorphy2-0.9.1 pymorphy2-dicts-ru-2.4.417127.4579844 razdel-0.5.0 slovnet-0.4.0 yargy-0.14.0\n"
          ],
          "name": "stdout"
        }
      ]
    },
    {
      "cell_type": "code",
      "metadata": {
        "id": "C8XloLiRWC37"
      },
      "source": [
        "from natasha import (\n",
        "    Segmenter,\n",
        "    MorphVocab,\n",
        "    \n",
        "    NewsEmbedding,\n",
        "    NewsMorphTagger,\n",
        "    NewsSyntaxParser,\n",
        "    NewsNERTagger,\n",
        "    \n",
        "    PER,\n",
        "    NamesExtractor,\n",
        "\n",
        "    Doc\n",
        ")\n",
        "import re"
      ],
      "execution_count": null,
      "outputs": []
    },
    {
      "cell_type": "code",
      "metadata": {
        "id": "vWitl9pO5mAo",
        "outputId": "a61ff488-8c69-4958-e27b-d578a3ef7a39",
        "colab": {
          "base_uri": "https://localhost:8080/",
          "height": 87
        }
      },
      "source": [
        "pip install pymorphy2"
      ],
      "execution_count": null,
      "outputs": [
        {
          "output_type": "stream",
          "text": [
            "Requirement already satisfied: pymorphy2 in /usr/local/lib/python3.6/dist-packages (0.9.1)\n",
            "Requirement already satisfied: pymorphy2-dicts-ru<3.0,>=2.4 in /usr/local/lib/python3.6/dist-packages (from pymorphy2) (2.4.417127.4579844)\n",
            "Requirement already satisfied: dawg-python>=0.7.1 in /usr/local/lib/python3.6/dist-packages (from pymorphy2) (0.7.2)\n",
            "Requirement already satisfied: docopt>=0.6 in /usr/local/lib/python3.6/dist-packages (from pymorphy2) (0.6.2)\n"
          ],
          "name": "stdout"
        }
      ]
    },
    {
      "cell_type": "code",
      "metadata": {
        "id": "JFjP8d1994Hr",
        "outputId": "3d989dc5-0740-4554-b17f-ef11f97c0834",
        "colab": {
          "base_uri": "https://localhost:8080/",
          "height": 52
        }
      },
      "source": [
        "pip install nltk"
      ],
      "execution_count": null,
      "outputs": [
        {
          "output_type": "stream",
          "text": [
            "Requirement already satisfied: nltk in /usr/local/lib/python3.6/dist-packages (3.2.5)\n",
            "Requirement already satisfied: six in /usr/local/lib/python3.6/dist-packages (from nltk) (1.15.0)\n"
          ],
          "name": "stdout"
        }
      ]
    },
    {
      "cell_type": "code",
      "metadata": {
        "id": "REt7mNFQ1RJY",
        "outputId": "bc756070-33cb-4595-cae8-0f9138ef112c",
        "colab": {
          "base_uri": "https://localhost:8080/",
          "height": 35
        }
      },
      "source": [
        "pip install razdel"
      ],
      "execution_count": null,
      "outputs": [
        {
          "output_type": "stream",
          "text": [
            "Requirement already satisfied: razdel in /usr/local/lib/python3.6/dist-packages (0.5.0)\n"
          ],
          "name": "stdout"
        }
      ]
    },
    {
      "cell_type": "code",
      "metadata": {
        "id": "oJWPGPLL1WYP",
        "outputId": "b624f368-2aa0-490f-e3fc-2af1efdf96f7",
        "colab": {
          "base_uri": "https://localhost:8080/",
          "height": 87
        }
      },
      "source": [
        "pip install pymorphy2"
      ],
      "execution_count": null,
      "outputs": [
        {
          "output_type": "stream",
          "text": [
            "Requirement already satisfied: pymorphy2 in /usr/local/lib/python3.6/dist-packages (0.9.1)\n",
            "Requirement already satisfied: pymorphy2-dicts-ru<3.0,>=2.4 in /usr/local/lib/python3.6/dist-packages (from pymorphy2) (2.4.417127.4579844)\n",
            "Requirement already satisfied: docopt>=0.6 in /usr/local/lib/python3.6/dist-packages (from pymorphy2) (0.6.2)\n",
            "Requirement already satisfied: dawg-python>=0.7.1 in /usr/local/lib/python3.6/dist-packages (from pymorphy2) (0.7.2)\n"
          ],
          "name": "stdout"
        }
      ]
    },
    {
      "cell_type": "code",
      "metadata": {
        "id": "Ck1OgTMI5OnD",
        "outputId": "dcd2d35e-86a2-4587-88a2-519ce5a43319",
        "colab": {
          "base_uri": "https://localhost:8080/",
          "height": 52
        }
      },
      "source": [
        "import nltk\n",
        "nltk.download('punkt')\n",
        "from nltk.tokenize import word_tokenize\n",
        "import pandas as pd\n",
        "from razdel import tokenize, sentenize\n",
        "from string import punctuation\n",
        "from pymorphy2 import MorphAnalyzer\n",
        "morph = MorphAnalyzer()\n",
        "import re\n",
        "import numpy as np"
      ],
      "execution_count": 48,
      "outputs": [
        {
          "output_type": "stream",
          "text": [
            "[nltk_data] Downloading package punkt to /root/nltk_data...\n",
            "[nltk_data]   Package punkt is already up-to-date!\n"
          ],
          "name": "stdout"
        }
      ]
    },
    {
      "cell_type": "markdown",
      "metadata": {
        "id": "rcAL-XBuWAwu"
      },
      "source": [
        ""
      ]
    },
    {
      "cell_type": "code",
      "metadata": {
        "id": "UYw3OJ8wECwv"
      },
      "source": [
        "TOKEN = '2030e8202030e8202030e820cf2041e16f220302030e8207ea4b43071db099fb761cad2'\n",
        "groups = [-182023900, -46661081]"
      ],
      "execution_count": null,
      "outputs": []
    },
    {
      "cell_type": "code",
      "metadata": {
        "id": "Mw6cjQxEEEa0"
      },
      "source": [
        "posts = []\n",
        "for group_id in groups:\n",
        "  data = requests.get(\n",
        "      'https://api.vk.com/method/wall.get', \n",
        "       params={\n",
        "            \"owner_id\": group_id,\n",
        "            \"count\": 100,\n",
        "            \"v\":\"5.92\",\n",
        "            \"access_token\": TOKEN\n",
        "            }\n",
        "      ).json()\n",
        "  group_posts = data['response']['items']\n",
        "\n",
        "  '''Метаинформация для каждого поста: \n",
        "  паблик, дата публикации и id поста, чтобы не потерять впоследствии\n",
        "  отдельные предложения\n",
        "  '''\n",
        "\n",
        "  for p in group_posts:\n",
        "    if len(p['text'].split()) > 99:\n",
        "      post_url = f\"https://vk.com/public{group_id * -1}?w=wall{group_id}_{p['id']}\"\n",
        "      post_text = p['text']\n",
        "      date = str(datetime.fromtimestamp(p['date']))\n",
        "\n",
        "      sentences_list = [_.text for _ in list(sentenize(post_text)) if not _.text.startswith('#') ]\n",
        "      for sent in sentences_list:\n",
        "        posts.append((post_url, date, sent.replace('\\n', ' ')))  "
      ],
      "execution_count": null,
      "outputs": []
    },
    {
      "cell_type": "code",
      "metadata": {
        "id": "CHnpsmX2QfJj",
        "outputId": "31e3dbdd-a50f-4e4f-b58b-a8e6cf9fc093",
        "colab": {
          "base_uri": "https://localhost:8080/",
          "height": 35
        }
      },
      "source": [
        "len(posts)"
      ],
      "execution_count": null,
      "outputs": [
        {
          "output_type": "execute_result",
          "data": {
            "text/plain": [
              "3468"
            ]
          },
          "metadata": {
            "tags": []
          },
          "execution_count": 38
        }
      ]
    },
    {
      "cell_type": "code",
      "metadata": {
        "id": "MwXtz9GcFkQm",
        "outputId": "b52bec28-65ad-403d-9502-56e612dcb954",
        "colab": {
          "base_uri": "https://localhost:8080/",
          "height": 34
        }
      },
      "source": [
        "posts"
      ],
      "execution_count": null,
      "outputs": [
        {
          "output_type": "execute_result",
          "data": {
            "text/plain": [
              "[]"
            ]
          },
          "metadata": {
            "tags": []
          },
          "execution_count": 52
        }
      ]
    },
    {
      "cell_type": "markdown",
      "metadata": {
        "id": "bqyX7V9xPizL"
      },
      "source": [
        "Сохраняем в tsv-файл (вам не надо)"
      ]
    },
    {
      "cell_type": "code",
      "metadata": {
        "id": "p7ZmZQ0ePiI-",
        "outputId": "ab1c5feb-5f19-4269-b52a-f5834218f2bd",
        "colab": {
          "base_uri": "https://localhost:8080/",
          "height": 17
        }
      },
      "source": [
        "'''from google.colab import files\n",
        "\n",
        "with open('sentences.tsv', 'w', encoding='utf-8') as f:\n",
        "  for p in posts:\n",
        "    f.write('\\t'.join(p) + '\\n')\n",
        "\n",
        "files.download('sentences.tsv')'''"
      ],
      "execution_count": null,
      "outputs": [
        {
          "output_type": "display_data",
          "data": {
            "application/javascript": [
              "\n",
              "    async function download(id, filename, size) {\n",
              "      if (!google.colab.kernel.accessAllowed) {\n",
              "        return;\n",
              "      }\n",
              "      const div = document.createElement('div');\n",
              "      const label = document.createElement('label');\n",
              "      label.textContent = `Downloading \"${filename}\": `;\n",
              "      div.appendChild(label);\n",
              "      const progress = document.createElement('progress');\n",
              "      progress.max = size;\n",
              "      div.appendChild(progress);\n",
              "      document.body.appendChild(div);\n",
              "\n",
              "      const buffers = [];\n",
              "      let downloaded = 0;\n",
              "\n",
              "      const channel = await google.colab.kernel.comms.open(id);\n",
              "      // Send a message to notify the kernel that we're ready.\n",
              "      channel.send({})\n",
              "\n",
              "      for await (const message of channel.messages) {\n",
              "        // Send a message to notify the kernel that we're ready.\n",
              "        channel.send({})\n",
              "        if (message.buffers) {\n",
              "          for (const buffer of message.buffers) {\n",
              "            buffers.push(buffer);\n",
              "            downloaded += buffer.byteLength;\n",
              "            progress.value = downloaded;\n",
              "          }\n",
              "        }\n",
              "      }\n",
              "      const blob = new Blob(buffers, {type: 'application/binary'});\n",
              "      const a = document.createElement('a');\n",
              "      a.href = window.URL.createObjectURL(blob);\n",
              "      a.download = filename;\n",
              "      div.appendChild(a);\n",
              "      a.click();\n",
              "      div.remove();\n",
              "    }\n",
              "  "
            ],
            "text/plain": [
              "<IPython.core.display.Javascript object>"
            ]
          },
          "metadata": {
            "tags": []
          }
        },
        {
          "output_type": "display_data",
          "data": {
            "application/javascript": [
              "download(\"download_05125a8c-0bbf-42ad-a9a4-61a30b7b7287\", \"sentences.tsv\", 1000141)"
            ],
            "text/plain": [
              "<IPython.core.display.Javascript object>"
            ]
          },
          "metadata": {
            "tags": []
          }
        }
      ]
    },
    {
      "cell_type": "markdown",
      "metadata": {
        "id": "nNh8cMy4XF6q"
      },
      "source": [
        "Вот это вам надо"
      ]
    },
    {
      "cell_type": "code",
      "metadata": {
        "id": "9zfBMBehFY5S",
        "outputId": "36aa0f89-dd9f-4b9f-a1b6-e714242cd23c",
        "colab": {
          "base_uri": "https://localhost:8080/",
          "height": 120
        }
      },
      "source": [
        "sent_df.loc[1474].Sentence"
      ],
      "execution_count": null,
      "outputs": [
        {
          "output_type": "execute_result",
          "data": {
            "application/vnd.google.colaboratory.intrinsic+json": {
              "type": "string"
            },
            "text/plain": [
              "'С 2017 года мы жили вместе, практически гражданским браком, и нам было великолепно, это была настоящая любовь, разница в возрасте вообще не чувствовалась.\\nhttps://vk.com/public46661081?w=wall-46661081_76353\\t2020-10-13 14:30:03\\tРешили, что у нас будет сын и дочка.\\nhttps://vk.com/public46661081?w=wall-46661081_76353\\t2020-10-13 14:30:03\\tИ тут в нашей жизни появилось обстоятельство.\\nhttps://vk.com/public46661081?w=wall-46661081_76353\\t2020-10-13 14:30:03\\tНет, это было чудовище, - театрально повышая тон, заявил подсудимый.\\nhttps://vk.com/public46661081?w=wall-46661081_76353\\t2020-10-13 14:30:03\\t- Страшное чудовище, которое сломало всю нашу жизнь!.'"
            ]
          },
          "metadata": {
            "tags": []
          },
          "execution_count": 63
        }
      ]
    },
    {
      "cell_type": "markdown",
      "metadata": {
        "id": "Etg4F-p5VIfy"
      },
      "source": [
        "### Предобработка предложений"
      ]
    },
    {
      "cell_type": "code",
      "metadata": {
        "id": "_SEJoqzWYUUz"
      },
      "source": [
        "sent_df['Clean_sentence'] = sent_df['Sentence'].apply(preprocess)"
      ],
      "execution_count": null,
      "outputs": []
    },
    {
      "cell_type": "markdown",
      "metadata": {
        "id": "4uIp9-_WYVV4"
      },
      "source": [
        "Датафрейм униграмм"
      ]
    },
    {
      "cell_type": "markdown",
      "metadata": {
        "id": "aGtKztaucYqO"
      },
      "source": [
        "(код для pos-обработки взяла у Тани)"
      ]
    },
    {
      "cell_type": "code",
      "metadata": {
        "id": "bDIl6opad85d"
      },
      "source": [
        "def get_pos_lem(word):\n",
        "  analiz = morph.parse(word)\n",
        "  return analiz[0].normal_form, analiz[0].tag.POS"
      ],
      "execution_count": null,
      "outputs": []
    },
    {
      "cell_type": "code",
      "metadata": {
        "id": "tVuATgZXi0vg"
      },
      "source": [
        "from tqdm.auto import tqdm"
      ],
      "execution_count": null,
      "outputs": []
    },
    {
      "cell_type": "code",
      "metadata": {
        "id": "nbx2IIEJcGC-",
        "outputId": "360842ce-61fd-4156-a198-6051c32939ed",
        "colab": {
          "base_uri": "https://localhost:8080/",
          "height": 66,
          "referenced_widgets": [
            "daacf7c69b3c4cd89b519ef08a40964c",
            "1fc9bee646b5481b8f680a156e90e884",
            "56ebda0b549442dabd908034fbb7b296",
            "0af2f9ac7f42463dbe2c9ec210bf6d3d",
            "17c50664b3a94c54a3e9e23255f1ed18",
            "6b4ec170777b4f369689f4f5e1ee452d",
            "34bbe64e4aa8493e9d5dbdf866df8ed9",
            "36cf519eb37d4dda96d514953abe6a6f"
          ]
        }
      },
      "source": [
        "uni_df = pd.DataFrame(columns=['Token', 'Lemma', 'POS', 'Sent_ids'])\n",
        "\n",
        "for sent_id, sent in tqdm(zip(sent_df.index, sent_df.Clean_sentence)):\n",
        "    for word in sent.split():\n",
        "        if word not in uni_df.Token.values:\n",
        "          lem, pos = get_pos_lem(word) \n",
        "          uni_df = uni_df.append({'Token': word,\n",
        "                          'Lemma': lem,\n",
        "                          'POS': str(pos),\n",
        "                          'Sent_ids': str(sent_id)\n",
        "                          }, ignore_index=True)\n",
        "        else:\n",
        "          #ids = uni_df[uni_df.Token == word].Sent_ids.values.tolist()\n",
        "          uni_df.loc[uni_df.Token == word, 'Sent_ids'] += f' {sent_id}'"
      ],
      "execution_count": null,
      "outputs": [
        {
          "output_type": "display_data",
          "data": {
            "application/vnd.jupyter.widget-view+json": {
              "model_id": "daacf7c69b3c4cd89b519ef08a40964c",
              "version_minor": 0,
              "version_major": 2
            },
            "text/plain": [
              "HBox(children=(FloatProgress(value=1.0, bar_style='info', max=1.0), HTML(value='')))"
            ]
          },
          "metadata": {
            "tags": []
          }
        },
        {
          "output_type": "stream",
          "text": [
            "\n"
          ],
          "name": "stdout"
        }
      ]
    },
    {
      "cell_type": "code",
      "metadata": {
        "id": "QVCvJtKLpd2o"
      },
      "source": [
        "def fix_ids(str_list):\n",
        "  return [int(i) for i in list(set(str_list.split()))]"
      ],
      "execution_count": 61,
      "outputs": []
    },
    {
      "cell_type": "code",
      "metadata": {
        "id": "gJ3rpAFVpunP"
      },
      "source": [
        "uni_df['Ids'] = uni_df['Sent_ids'].apply(fix_ids)\n"
      ],
      "execution_count": 59,
      "outputs": []
    },
    {
      "cell_type": "code",
      "metadata": {
        "id": "C2EfyUufzeM-",
        "outputId": "1e34e21b-8e9d-43c1-b5e2-72b385f2dfaf",
        "colab": {
          "base_uri": "https://localhost:8080/",
          "height": 17
        }
      },
      "source": [
        "from google.colab import files\n",
        "uni_df.to_csv('uni_df.tsv', sep='\\t', index=False)\n",
        "files.download('uni_df.tsv')"
      ],
      "execution_count": null,
      "outputs": [
        {
          "output_type": "display_data",
          "data": {
            "application/javascript": [
              "\n",
              "    async function download(id, filename, size) {\n",
              "      if (!google.colab.kernel.accessAllowed) {\n",
              "        return;\n",
              "      }\n",
              "      const div = document.createElement('div');\n",
              "      const label = document.createElement('label');\n",
              "      label.textContent = `Downloading \"${filename}\": `;\n",
              "      div.appendChild(label);\n",
              "      const progress = document.createElement('progress');\n",
              "      progress.max = size;\n",
              "      div.appendChild(progress);\n",
              "      document.body.appendChild(div);\n",
              "\n",
              "      const buffers = [];\n",
              "      let downloaded = 0;\n",
              "\n",
              "      const channel = await google.colab.kernel.comms.open(id);\n",
              "      // Send a message to notify the kernel that we're ready.\n",
              "      channel.send({})\n",
              "\n",
              "      for await (const message of channel.messages) {\n",
              "        // Send a message to notify the kernel that we're ready.\n",
              "        channel.send({})\n",
              "        if (message.buffers) {\n",
              "          for (const buffer of message.buffers) {\n",
              "            buffers.push(buffer);\n",
              "            downloaded += buffer.byteLength;\n",
              "            progress.value = downloaded;\n",
              "          }\n",
              "        }\n",
              "      }\n",
              "      const blob = new Blob(buffers, {type: 'application/binary'});\n",
              "      const a = document.createElement('a');\n",
              "      a.href = window.URL.createObjectURL(blob);\n",
              "      a.download = filename;\n",
              "      div.appendChild(a);\n",
              "      a.click();\n",
              "      div.remove();\n",
              "    }\n",
              "  "
            ],
            "text/plain": [
              "<IPython.core.display.Javascript object>"
            ]
          },
          "metadata": {
            "tags": []
          }
        },
        {
          "output_type": "display_data",
          "data": {
            "application/javascript": [
              "download(\"download_34b9f808-f26d-4dda-85a9-baa32be7eaef\", \"uni_df.tsv\", 1311618)"
            ],
            "text/plain": [
              "<IPython.core.display.Javascript object>"
            ]
          },
          "metadata": {
            "tags": []
          }
        }
      ]
    },
    {
      "cell_type": "markdown",
      "metadata": {
        "id": "B_gbvL8S0oad"
      },
      "source": [
        "Дата фрейм биграмм\n"
      ]
    },
    {
      "cell_type": "code",
      "metadata": {
        "id": "oOsBDVLDzlvw",
        "outputId": "56cda81f-c594-4977-a38b-b4329e9f6699",
        "colab": {
          "base_uri": "https://localhost:8080/",
          "height": 66,
          "referenced_widgets": [
            "30f20544c3b747939026e73e73a8c5be",
            "3c19095126124551bdd2017c04c01868",
            "427009dbbb2a4076818294eafa1b93eb",
            "6c96e379aab545438a125718992604cc",
            "611444a8f3284916902e1b079211a3d6",
            "342097d52ad646d387360e5d4ae666e0",
            "619cdd48d12e4673a59628c195d7874b",
            "bc2778f891b64a6bb47cd8b6f5c77d62"
          ]
        }
      },
      "source": [
        "bi_df = pd.DataFrame(columns=['bi_token', 'uni_first_token', 'uni_first_lemma', 'uni_first_POS', 'uni_second_token', 'uni_second_lemma', 'uni_second_POS', 'Sent_ids'])\n",
        "token_values = []\n",
        "for sent_id, sent in tqdm(zip(sent_df.index, sent_df.Clean_sentence)):\n",
        "  list_words = [word.strip(punctuation) for word in sent.split()]\n",
        "  text_list = [' '.join(list_words)]\n",
        "  bigrams = [b for l in text_list for b in zip(l.split(\" \")[:-1], l.split(\" \")[1:])]\n",
        "  for bigram in bigrams:\n",
        "    if bigram not in token_values:\n",
        "      bi_lem = [get_pos_lem(word) for word in bigram]\n",
        "      bi_df = bi_df.append({'bi_token': bigram,\n",
        "                          'uni_first_token': bigram[0],\n",
        "                          'uni_first_lemma': bi_lem[0][0],\n",
        "                          'uni_first_POS': bi_lem[0][1],\n",
        "                          'uni_second_token': bigram[1],\n",
        "                          'uni_second_lemma': bi_lem[1][0], \n",
        "                          'uni_second_POS': bi_lem[1][1],\n",
        "                          'Sent_ids': str(sent_id)\n",
        "                          }, ignore_index=True)\n",
        "      token_values.append(bigram)\n",
        "    else:\n",
        "      bi_df.loc[bi_df.bi_token == bigram, 'Sent_ids'] += f' {sent_id}'\n",
        "   "
      ],
      "execution_count": null,
      "outputs": [
        {
          "output_type": "display_data",
          "data": {
            "application/vnd.jupyter.widget-view+json": {
              "model_id": "30f20544c3b747939026e73e73a8c5be",
              "version_minor": 0,
              "version_major": 2
            },
            "text/plain": [
              "HBox(children=(FloatProgress(value=1.0, bar_style='info', max=1.0), HTML(value='')))"
            ]
          },
          "metadata": {
            "tags": []
          }
        },
        {
          "output_type": "stream",
          "text": [
            "\n"
          ],
          "name": "stdout"
        }
      ]
    },
    {
      "cell_type": "code",
      "metadata": {
        "id": "0lxgH5vSEmUF"
      },
      "source": [
        "bi_df['Ids'] = bi_df['Sent_ids'].apply(fix_ids)"
      ],
      "execution_count": null,
      "outputs": []
    },
    {
      "cell_type": "code",
      "metadata": {
        "id": "MKbIj4KZBfw5",
        "outputId": "3bbf1dc9-ac45-43f8-ad13-f33aefd2deb4",
        "colab": {
          "base_uri": "https://localhost:8080/",
          "height": 391
        }
      },
      "source": [
        "bi_df"
      ],
      "execution_count": null,
      "outputs": [
        {
          "output_type": "execute_result",
          "data": {
            "text/html": [
              "<div>\n",
              "<style scoped>\n",
              "    .dataframe tbody tr th:only-of-type {\n",
              "        vertical-align: middle;\n",
              "    }\n",
              "\n",
              "    .dataframe tbody tr th {\n",
              "        vertical-align: top;\n",
              "    }\n",
              "\n",
              "    .dataframe thead th {\n",
              "        text-align: right;\n",
              "    }\n",
              "</style>\n",
              "<table border=\"1\" class=\"dataframe\">\n",
              "  <thead>\n",
              "    <tr style=\"text-align: right;\">\n",
              "      <th></th>\n",
              "      <th>bi_token</th>\n",
              "      <th>uni_first_token</th>\n",
              "      <th>uni_first_lemma</th>\n",
              "      <th>uni_first_POS</th>\n",
              "      <th>uni_second_token</th>\n",
              "      <th>uni_second_lemma</th>\n",
              "      <th>uni_second_POS</th>\n",
              "      <th>Sent_ids</th>\n",
              "      <th>Ids</th>\n",
              "    </tr>\n",
              "  </thead>\n",
              "  <tbody>\n",
              "    <tr>\n",
              "      <th>0</th>\n",
              "      <td>(в, июне)</td>\n",
              "      <td>в</td>\n",
              "      <td>в</td>\n",
              "      <td>PREP</td>\n",
              "      <td>июне</td>\n",
              "      <td>июнь</td>\n",
              "      <td>NOUN</td>\n",
              "      <td>0 861</td>\n",
              "      <td>[0, 861]</td>\n",
              "    </tr>\n",
              "    <tr>\n",
              "      <th>1</th>\n",
              "      <td>(июне, этого)</td>\n",
              "      <td>июне</td>\n",
              "      <td>июнь</td>\n",
              "      <td>NOUN</td>\n",
              "      <td>этого</td>\n",
              "      <td>это</td>\n",
              "      <td>NPRO</td>\n",
              "      <td>0</td>\n",
              "      <td>[0]</td>\n",
              "    </tr>\n",
              "    <tr>\n",
              "      <th>2</th>\n",
              "      <td>(этого, года)</td>\n",
              "      <td>этого</td>\n",
              "      <td>это</td>\n",
              "      <td>NPRO</td>\n",
              "      <td>года</td>\n",
              "      <td>год</td>\n",
              "      <td>NOUN</td>\n",
              "      <td>0 473 1169 1672 1756 3155</td>\n",
              "      <td>[0, 473, 1756, 1672, 1169, 3155]</td>\n",
              "    </tr>\n",
              "    <tr>\n",
              "      <th>3</th>\n",
              "      <td>(года, девушка)</td>\n",
              "      <td>года</td>\n",
              "      <td>год</td>\n",
              "      <td>NOUN</td>\n",
              "      <td>девушка</td>\n",
              "      <td>девушка</td>\n",
              "      <td>NOUN</td>\n",
              "      <td>0</td>\n",
              "      <td>[0]</td>\n",
              "    </tr>\n",
              "    <tr>\n",
              "      <th>4</th>\n",
              "      <td>(девушка, по)</td>\n",
              "      <td>девушка</td>\n",
              "      <td>девушка</td>\n",
              "      <td>NOUN</td>\n",
              "      <td>по</td>\n",
              "      <td>по</td>\n",
              "      <td>PREP</td>\n",
              "      <td>0</td>\n",
              "      <td>[0]</td>\n",
              "    </tr>\n",
              "    <tr>\n",
              "      <th>...</th>\n",
              "      <td>...</td>\n",
              "      <td>...</td>\n",
              "      <td>...</td>\n",
              "      <td>...</td>\n",
              "      <td>...</td>\n",
              "      <td>...</td>\n",
              "      <td>...</td>\n",
              "      <td>...</td>\n",
              "      <td>...</td>\n",
              "    </tr>\n",
              "    <tr>\n",
              "      <th>41739</th>\n",
              "      <td>(устанавливает, датчики)</td>\n",
              "      <td>устанавливает</td>\n",
              "      <td>устанавливать</td>\n",
              "      <td>VERB</td>\n",
              "      <td>датчики</td>\n",
              "      <td>датчик</td>\n",
              "      <td>NOUN</td>\n",
              "      <td>3466</td>\n",
              "      <td>[3466]</td>\n",
              "    </tr>\n",
              "    <tr>\n",
              "      <th>41740</th>\n",
              "      <td>(датчики, и)</td>\n",
              "      <td>датчики</td>\n",
              "      <td>датчик</td>\n",
              "      <td>NOUN</td>\n",
              "      <td>и</td>\n",
              "      <td>и</td>\n",
              "      <td>CONJ</td>\n",
              "      <td>3466</td>\n",
              "      <td>[3466]</td>\n",
              "    </tr>\n",
              "    <tr>\n",
              "      <th>41741</th>\n",
              "      <td>(затем, программирует)</td>\n",
              "      <td>затем</td>\n",
              "      <td>затем</td>\n",
              "      <td>ADVB</td>\n",
              "      <td>программирует</td>\n",
              "      <td>программировать</td>\n",
              "      <td>VERB</td>\n",
              "      <td>3466</td>\n",
              "      <td>[3466]</td>\n",
              "    </tr>\n",
              "    <tr>\n",
              "      <th>41742</th>\n",
              "      <td>(программирует, их)</td>\n",
              "      <td>программирует</td>\n",
              "      <td>программировать</td>\n",
              "      <td>VERB</td>\n",
              "      <td>их</td>\n",
              "      <td>они</td>\n",
              "      <td>NPRO</td>\n",
              "      <td>3466</td>\n",
              "      <td>[3466]</td>\n",
              "    </tr>\n",
              "    <tr>\n",
              "      <th>41743</th>\n",
              "      <td>(их, работу)</td>\n",
              "      <td>их</td>\n",
              "      <td>они</td>\n",
              "      <td>NPRO</td>\n",
              "      <td>работу</td>\n",
              "      <td>работа</td>\n",
              "      <td>NOUN</td>\n",
              "      <td>3466</td>\n",
              "      <td>[3466]</td>\n",
              "    </tr>\n",
              "  </tbody>\n",
              "</table>\n",
              "<p>41744 rows × 9 columns</p>\n",
              "</div>"
            ],
            "text/plain": [
              "                       bi_token  ...                               Ids\n",
              "0                     (в, июне)  ...                          [0, 861]\n",
              "1                 (июне, этого)  ...                               [0]\n",
              "2                 (этого, года)  ...  [0, 473, 1756, 1672, 1169, 3155]\n",
              "3               (года, девушка)  ...                               [0]\n",
              "4                 (девушка, по)  ...                               [0]\n",
              "...                         ...  ...                               ...\n",
              "41739  (устанавливает, датчики)  ...                            [3466]\n",
              "41740              (датчики, и)  ...                            [3466]\n",
              "41741    (затем, программирует)  ...                            [3466]\n",
              "41742       (программирует, их)  ...                            [3466]\n",
              "41743              (их, работу)  ...                            [3466]\n",
              "\n",
              "[41744 rows x 9 columns]"
            ]
          },
          "metadata": {
            "tags": []
          },
          "execution_count": 30
        }
      ]
    },
    {
      "cell_type": "code",
      "metadata": {
        "id": "ZxpIDFhANIDS",
        "outputId": "01346cf5-c5d2-45ce-f73a-6545b8fed5de",
        "colab": {
          "base_uri": "https://localhost:8080/",
          "height": 17
        }
      },
      "source": [
        "from google.colab import files\n",
        "bi_df.to_csv('bi_df.tsv', sep='\\t', index=False)\n",
        "files.download('bi_df.tsv')"
      ],
      "execution_count": null,
      "outputs": [
        {
          "output_type": "display_data",
          "data": {
            "application/javascript": [
              "\n",
              "    async function download(id, filename, size) {\n",
              "      if (!google.colab.kernel.accessAllowed) {\n",
              "        return;\n",
              "      }\n",
              "      const div = document.createElement('div');\n",
              "      const label = document.createElement('label');\n",
              "      label.textContent = `Downloading \"${filename}\": `;\n",
              "      div.appendChild(label);\n",
              "      const progress = document.createElement('progress');\n",
              "      progress.max = size;\n",
              "      div.appendChild(progress);\n",
              "      document.body.appendChild(div);\n",
              "\n",
              "      const buffers = [];\n",
              "      let downloaded = 0;\n",
              "\n",
              "      const channel = await google.colab.kernel.comms.open(id);\n",
              "      // Send a message to notify the kernel that we're ready.\n",
              "      channel.send({})\n",
              "\n",
              "      for await (const message of channel.messages) {\n",
              "        // Send a message to notify the kernel that we're ready.\n",
              "        channel.send({})\n",
              "        if (message.buffers) {\n",
              "          for (const buffer of message.buffers) {\n",
              "            buffers.push(buffer);\n",
              "            downloaded += buffer.byteLength;\n",
              "            progress.value = downloaded;\n",
              "          }\n",
              "        }\n",
              "      }\n",
              "      const blob = new Blob(buffers, {type: 'application/binary'});\n",
              "      const a = document.createElement('a');\n",
              "      a.href = window.URL.createObjectURL(blob);\n",
              "      a.download = filename;\n",
              "      div.appendChild(a);\n",
              "      a.click();\n",
              "      div.remove();\n",
              "    }\n",
              "  "
            ],
            "text/plain": [
              "<IPython.core.display.Javascript object>"
            ]
          },
          "metadata": {
            "tags": []
          }
        },
        {
          "output_type": "display_data",
          "data": {
            "application/javascript": [
              "download(\"download_da21c241-7079-48a9-bbce-e08219219ec1\", \"bi_df.tsv\", 4767327)"
            ],
            "text/plain": [
              "<IPython.core.display.Javascript object>"
            ]
          },
          "metadata": {
            "tags": []
          }
        }
      ]
    },
    {
      "cell_type": "markdown",
      "metadata": {
        "id": "7RKRFl4S3USb"
      },
      "source": [
        "Датафрейм триграмм"
      ]
    },
    {
      "cell_type": "code",
      "metadata": {
        "id": "e9PRQ1tmzuKi",
        "outputId": "57c4a7ed-69af-4cda-e53b-edbec64a2248",
        "colab": {
          "base_uri": "https://localhost:8080/",
          "height": 66,
          "referenced_widgets": [
            "d87d62c65e774bbd984f338183e742a0",
            "8fa6af48072f4d2486298f0ca34d54b4",
            "16374cf94d3c47a497afd63921dd785c",
            "586110ddb40144219c147cb8d65d604b",
            "f6d3a5393dc443ebbcad7f91481f8884",
            "8e8a97506f764607a6e70e66c9c22633",
            "c17d2f19c74847499f0d49230d141287",
            "3ec8a61f00634bbca7dbbdead466bc3e"
          ]
        }
      },
      "source": [
        "tri_df = pd.DataFrame(columns=['tri_token', 'uni_first_token', 'uni_first_lemma', 'uni_first_POS', 'uni_second_token', 'uni_second_lemma', 'uni_second_POS','uni_third_token','uni_third_lemma','uni_third_POS', 'Sent_ids'])\n",
        "token_values = []\n",
        "for sent_id, sent in tqdm(zip(sent_df.index, sent_df.Clean_sentence)):\n",
        "    list_words = [word.strip(punctuation) for word in sent.split()]\n",
        "    text_list = [' '.join(list_words)]\n",
        "    trigrams = [b for l in text_list for b in zip(l.split(\" \")[:-1], l.split(\" \")[1:],l.split(' ')[2:])]\n",
        "    for trigram in trigrams:\n",
        "        if trigram not in token_values:\n",
        "            tri_lem = [get_pos_lem(word) for word in trigram]\n",
        "            tri_df = tri_df.append({'tri_token': trigram,\n",
        "                                'uni_first_token': trigram[0],\n",
        "                                'uni_first_lemma': tri_lem[0][0],\n",
        "                                'uni_first_POS': tri_lem[0][1],\n",
        "                                'uni_second_token': trigram[1],\n",
        "                                'uni_second_lemma': tri_lem[1][0], \n",
        "                                'uni_second_POS': tri_lem[1][1],\n",
        "                                'uni_third_token': trigram[2],\n",
        "                                'uni_third_lemma': tri_lem[2][0], \n",
        "                                'uni_third_POS': tri_lem[2][1],\n",
        "                                'Sent_ids': str(sent_id)\n",
        "                          }, ignore_index=True)\n",
        "            token_values.append(trigram)\n",
        "        else:\n",
        "            tri_df.loc[tri_df.tri_token == trigram, 'Sent_ids'] += f' {sent_id}'"
      ],
      "execution_count": null,
      "outputs": [
        {
          "output_type": "display_data",
          "data": {
            "application/vnd.jupyter.widget-view+json": {
              "model_id": "d87d62c65e774bbd984f338183e742a0",
              "version_minor": 0,
              "version_major": 2
            },
            "text/plain": [
              "HBox(children=(FloatProgress(value=1.0, bar_style='info', max=1.0), HTML(value='')))"
            ]
          },
          "metadata": {
            "tags": []
          }
        },
        {
          "output_type": "stream",
          "text": [
            "\n"
          ],
          "name": "stdout"
        }
      ]
    },
    {
      "cell_type": "code",
      "metadata": {
        "id": "VKlgjY3l3eqp"
      },
      "source": [
        "tri_df['Ids'] = tri_df['Sent_ids'].apply(fix_ids)"
      ],
      "execution_count": null,
      "outputs": []
    },
    {
      "cell_type": "code",
      "metadata": {
        "id": "2v8m_JbJICh_",
        "outputId": "bffdbbd5-9965-450c-bd8c-de866d198631",
        "colab": {
          "base_uri": "https://localhost:8080/",
          "height": 391
        }
      },
      "source": [
        "tri_df"
      ],
      "execution_count": null,
      "outputs": [
        {
          "output_type": "execute_result",
          "data": {
            "text/html": [
              "<div>\n",
              "<style scoped>\n",
              "    .dataframe tbody tr th:only-of-type {\n",
              "        vertical-align: middle;\n",
              "    }\n",
              "\n",
              "    .dataframe tbody tr th {\n",
              "        vertical-align: top;\n",
              "    }\n",
              "\n",
              "    .dataframe thead th {\n",
              "        text-align: right;\n",
              "    }\n",
              "</style>\n",
              "<table border=\"1\" class=\"dataframe\">\n",
              "  <thead>\n",
              "    <tr style=\"text-align: right;\">\n",
              "      <th></th>\n",
              "      <th>tri_token</th>\n",
              "      <th>uni_first_token</th>\n",
              "      <th>uni_first_lemma</th>\n",
              "      <th>uni_first_POS</th>\n",
              "      <th>uni_second_token</th>\n",
              "      <th>uni_second_lemma</th>\n",
              "      <th>uni_second_POS</th>\n",
              "      <th>uni_third_token</th>\n",
              "      <th>uni_third_lemma</th>\n",
              "      <th>uni_third_POS</th>\n",
              "      <th>Sent_ids</th>\n",
              "      <th>Ids</th>\n",
              "    </tr>\n",
              "  </thead>\n",
              "  <tbody>\n",
              "    <tr>\n",
              "      <th>0</th>\n",
              "      <td>(в, июне, этого)</td>\n",
              "      <td>в</td>\n",
              "      <td>в</td>\n",
              "      <td>PREP</td>\n",
              "      <td>июне</td>\n",
              "      <td>июнь</td>\n",
              "      <td>NOUN</td>\n",
              "      <td>этого</td>\n",
              "      <td>это</td>\n",
              "      <td>NPRO</td>\n",
              "      <td>0</td>\n",
              "      <td>[0]</td>\n",
              "    </tr>\n",
              "    <tr>\n",
              "      <th>1</th>\n",
              "      <td>(июне, этого, года)</td>\n",
              "      <td>июне</td>\n",
              "      <td>июнь</td>\n",
              "      <td>NOUN</td>\n",
              "      <td>этого</td>\n",
              "      <td>это</td>\n",
              "      <td>NPRO</td>\n",
              "      <td>года</td>\n",
              "      <td>год</td>\n",
              "      <td>NOUN</td>\n",
              "      <td>0</td>\n",
              "      <td>[0]</td>\n",
              "    </tr>\n",
              "    <tr>\n",
              "      <th>2</th>\n",
              "      <td>(этого, года, девушка)</td>\n",
              "      <td>этого</td>\n",
              "      <td>это</td>\n",
              "      <td>NPRO</td>\n",
              "      <td>года</td>\n",
              "      <td>год</td>\n",
              "      <td>NOUN</td>\n",
              "      <td>девушка</td>\n",
              "      <td>девушка</td>\n",
              "      <td>NOUN</td>\n",
              "      <td>0</td>\n",
              "      <td>[0]</td>\n",
              "    </tr>\n",
              "    <tr>\n",
              "      <th>3</th>\n",
              "      <td>(года, девушка, по)</td>\n",
              "      <td>года</td>\n",
              "      <td>год</td>\n",
              "      <td>NOUN</td>\n",
              "      <td>девушка</td>\n",
              "      <td>девушка</td>\n",
              "      <td>NOUN</td>\n",
              "      <td>по</td>\n",
              "      <td>по</td>\n",
              "      <td>PREP</td>\n",
              "      <td>0</td>\n",
              "      <td>[0]</td>\n",
              "    </tr>\n",
              "    <tr>\n",
              "      <th>4</th>\n",
              "      <td>(девушка, по, имени)</td>\n",
              "      <td>девушка</td>\n",
              "      <td>девушка</td>\n",
              "      <td>NOUN</td>\n",
              "      <td>по</td>\n",
              "      <td>по</td>\n",
              "      <td>PREP</td>\n",
              "      <td>имени</td>\n",
              "      <td>имя</td>\n",
              "      <td>NOUN</td>\n",
              "      <td>0</td>\n",
              "      <td>[0]</td>\n",
              "    </tr>\n",
              "    <tr>\n",
              "      <th>...</th>\n",
              "      <td>...</td>\n",
              "      <td>...</td>\n",
              "      <td>...</td>\n",
              "      <td>...</td>\n",
              "      <td>...</td>\n",
              "      <td>...</td>\n",
              "      <td>...</td>\n",
              "      <td>...</td>\n",
              "      <td>...</td>\n",
              "      <td>...</td>\n",
              "      <td>...</td>\n",
              "      <td>...</td>\n",
              "    </tr>\n",
              "    <tr>\n",
              "      <th>46753</th>\n",
              "      <td>(устанавливает, датчики, и)</td>\n",
              "      <td>устанавливает</td>\n",
              "      <td>устанавливать</td>\n",
              "      <td>VERB</td>\n",
              "      <td>датчики</td>\n",
              "      <td>датчик</td>\n",
              "      <td>NOUN</td>\n",
              "      <td>и</td>\n",
              "      <td>и</td>\n",
              "      <td>CONJ</td>\n",
              "      <td>3466</td>\n",
              "      <td>[3466]</td>\n",
              "    </tr>\n",
              "    <tr>\n",
              "      <th>46754</th>\n",
              "      <td>(датчики, и, затем)</td>\n",
              "      <td>датчики</td>\n",
              "      <td>датчик</td>\n",
              "      <td>NOUN</td>\n",
              "      <td>и</td>\n",
              "      <td>и</td>\n",
              "      <td>CONJ</td>\n",
              "      <td>затем</td>\n",
              "      <td>затем</td>\n",
              "      <td>ADVB</td>\n",
              "      <td>3466</td>\n",
              "      <td>[3466]</td>\n",
              "    </tr>\n",
              "    <tr>\n",
              "      <th>46755</th>\n",
              "      <td>(и, затем, программирует)</td>\n",
              "      <td>и</td>\n",
              "      <td>и</td>\n",
              "      <td>CONJ</td>\n",
              "      <td>затем</td>\n",
              "      <td>затем</td>\n",
              "      <td>ADVB</td>\n",
              "      <td>программирует</td>\n",
              "      <td>программировать</td>\n",
              "      <td>VERB</td>\n",
              "      <td>3466</td>\n",
              "      <td>[3466]</td>\n",
              "    </tr>\n",
              "    <tr>\n",
              "      <th>46756</th>\n",
              "      <td>(затем, программирует, их)</td>\n",
              "      <td>затем</td>\n",
              "      <td>затем</td>\n",
              "      <td>ADVB</td>\n",
              "      <td>программирует</td>\n",
              "      <td>программировать</td>\n",
              "      <td>VERB</td>\n",
              "      <td>их</td>\n",
              "      <td>они</td>\n",
              "      <td>NPRO</td>\n",
              "      <td>3466</td>\n",
              "      <td>[3466]</td>\n",
              "    </tr>\n",
              "    <tr>\n",
              "      <th>46757</th>\n",
              "      <td>(программирует, их, работу)</td>\n",
              "      <td>программирует</td>\n",
              "      <td>программировать</td>\n",
              "      <td>VERB</td>\n",
              "      <td>их</td>\n",
              "      <td>они</td>\n",
              "      <td>NPRO</td>\n",
              "      <td>работу</td>\n",
              "      <td>работа</td>\n",
              "      <td>NOUN</td>\n",
              "      <td>3466</td>\n",
              "      <td>[3466]</td>\n",
              "    </tr>\n",
              "  </tbody>\n",
              "</table>\n",
              "<p>46758 rows × 12 columns</p>\n",
              "</div>"
            ],
            "text/plain": [
              "                         tri_token uni_first_token  ... Sent_ids     Ids\n",
              "0                 (в, июне, этого)               в  ...        0     [0]\n",
              "1              (июне, этого, года)            июне  ...        0     [0]\n",
              "2           (этого, года, девушка)           этого  ...        0     [0]\n",
              "3              (года, девушка, по)            года  ...        0     [0]\n",
              "4             (девушка, по, имени)         девушка  ...        0     [0]\n",
              "...                            ...             ...  ...      ...     ...\n",
              "46753  (устанавливает, датчики, и)   устанавливает  ...     3466  [3466]\n",
              "46754          (датчики, и, затем)         датчики  ...     3466  [3466]\n",
              "46755    (и, затем, программирует)               и  ...     3466  [3466]\n",
              "46756   (затем, программирует, их)           затем  ...     3466  [3466]\n",
              "46757  (программирует, их, работу)   программирует  ...     3466  [3466]\n",
              "\n",
              "[46758 rows x 12 columns]"
            ]
          },
          "metadata": {
            "tags": []
          },
          "execution_count": 28
        }
      ]
    },
    {
      "cell_type": "code",
      "metadata": {
        "id": "KXWWUH5t06Gw",
        "outputId": "af5707a8-71a0-4c39-b7d3-9709a1f16dc2",
        "colab": {
          "base_uri": "https://localhost:8080/",
          "height": 17
        }
      },
      "source": [
        "from google.colab import files\n",
        "tri_df.to_csv('tri_df.tsv', sep='\\t', index=False)\n",
        "files.download('tri_df.tsv')"
      ],
      "execution_count": null,
      "outputs": [
        {
          "output_type": "display_data",
          "data": {
            "application/javascript": [
              "\n",
              "    async function download(id, filename, size) {\n",
              "      if (!google.colab.kernel.accessAllowed) {\n",
              "        return;\n",
              "      }\n",
              "      const div = document.createElement('div');\n",
              "      const label = document.createElement('label');\n",
              "      label.textContent = `Downloading \"${filename}\": `;\n",
              "      div.appendChild(label);\n",
              "      const progress = document.createElement('progress');\n",
              "      progress.max = size;\n",
              "      div.appendChild(progress);\n",
              "      document.body.appendChild(div);\n",
              "\n",
              "      const buffers = [];\n",
              "      let downloaded = 0;\n",
              "\n",
              "      const channel = await google.colab.kernel.comms.open(id);\n",
              "      // Send a message to notify the kernel that we're ready.\n",
              "      channel.send({})\n",
              "\n",
              "      for await (const message of channel.messages) {\n",
              "        // Send a message to notify the kernel that we're ready.\n",
              "        channel.send({})\n",
              "        if (message.buffers) {\n",
              "          for (const buffer of message.buffers) {\n",
              "            buffers.push(buffer);\n",
              "            downloaded += buffer.byteLength;\n",
              "            progress.value = downloaded;\n",
              "          }\n",
              "        }\n",
              "      }\n",
              "      const blob = new Blob(buffers, {type: 'application/binary'});\n",
              "      const a = document.createElement('a');\n",
              "      a.href = window.URL.createObjectURL(blob);\n",
              "      a.download = filename;\n",
              "      div.appendChild(a);\n",
              "      a.click();\n",
              "      div.remove();\n",
              "    }\n",
              "  "
            ],
            "text/plain": [
              "<IPython.core.display.Javascript object>"
            ]
          },
          "metadata": {
            "tags": []
          }
        },
        {
          "output_type": "display_data",
          "data": {
            "application/javascript": [
              "download(\"download_5053157d-4ff5-4948-ab6d-6876828f09c9\", \"tri_df.tsv\", 7185528)"
            ],
            "text/plain": [
              "<IPython.core.display.Javascript object>"
            ]
          },
          "metadata": {
            "tags": []
          }
        }
      ]
    },
    {
      "cell_type": "code",
      "metadata": {
        "id": "PXJ3nKDaTbs5"
      },
      "source": [
        "sent_df = pd.read_csv('https://raw.githubusercontent.com/nastyachizhikova/NLP_3rdyear/main/sentences.tsv', sep='\\t', header=None, names=['URL', 'Date', 'Sentence']) "
      ],
      "execution_count": null,
      "outputs": []
    },
    {
      "cell_type": "code",
      "metadata": {
        "id": "2palniY8ZBm9"
      },
      "source": [
        "def preprocess(sent):\n",
        "  tokens = [_.text.strip('-') for _ in list(tokenize(str(sent).lower())) if not re.search('[^а-яА-ЯёЁ\\-]', _.text)]\n",
        "  return ' '.join(tokens)"
      ],
      "execution_count": null,
      "outputs": []
    },
    {
      "cell_type": "code",
      "metadata": {
        "id": "LMWHy-t3qmKW"
      },
      "source": [
        "sent_df['Clean_sentence'] = sent_df['Sentence'].apply(preprocess)"
      ],
      "execution_count": null,
      "outputs": []
    },
    {
      "cell_type": "code",
      "metadata": {
        "id": "6NPLm3YR1_Co"
      },
      "source": [
        "uni_df = pd.read_csv('https://raw.githubusercontent.com/tbkazakova/autobr_femcorpus/main/uni_df.tsv', sep='\\t', header=0, names=['Token1', 'Lemma1', 'POS1', 'Sent_ids'], index_col=False) "
      ],
      "execution_count": 49,
      "outputs": []
    },
    {
      "cell_type": "code",
      "metadata": {
        "id": "abxrbKBW2Dno"
      },
      "source": [
        "bi_df = pd.read_csv('https://raw.githubusercontent.com/tbkazakova/autobr_femcorpus/main/bi_df.tsv', sep='\\t', header=0, names=['bi_token', 'Token1', 'Lemma1', 'POS1', 'Token2', 'Lemma2', 'POS2', 'Sent_ids'], index_col=False) "
      ],
      "execution_count": 50,
      "outputs": []
    },
    {
      "cell_type": "code",
      "metadata": {
        "id": "ElBf5sYb2Edc"
      },
      "source": [
        "tri_df = pd.read_csv('https://raw.githubusercontent.com/tbkazakova/autobr_femcorpus/main/tri_df.tsv', sep='\\t', header=0, names=['tri_token', 'Token1', 'Lemma1', 'POS1', 'Token2', 'Lemma2', 'POS2', 'Token3', 'Lemma3', 'POS3', 'Sent_ids'], index_col=False) "
      ],
      "execution_count": 51,
      "outputs": []
    },
    {
      "cell_type": "markdown",
      "metadata": {
        "id": "zKf4xvc3nBCJ"
      },
      "source": [
        "## ПОИСК"
      ]
    },
    {
      "cell_type": "code",
      "metadata": {
        "id": "7JecjLXcq_RB"
      },
      "source": [
        "POStags = ['NOUN', 'ADJF', 'ADJS', 'COMP', 'VERB', 'INFN', 'PRTF', 'PRTS', 'GRND', 'NUMR', 'ADVB', 'NPRO', 'PRED', 'PREP', 'CONJ', 'PRCL', 'INTJ', 'None']\n",
        "\n",
        "def make_condition(req, index):\n",
        "    if '+' in req:\n",
        "        req = req.split('+')\n",
        "        cond = f'Token{index} == \"{req[0]}\" and POS{index} == \"{req[1]}\"'\n",
        "    elif req.startswith('\"'):\n",
        "        req = req.lower()\n",
        "        req = req.replace('\"', '')\n",
        "        cond = f'Token{index} == \"{req}\"'\n",
        "    elif req in POStags:\n",
        "        cond = f'POS{index} == \"{req}\"'\n",
        "    else:\n",
        "        req = req.lower()\n",
        "        req = morph.parse(req)[0].normal_form\n",
        "        cond = f'Lemma{index} == \"{req}\"'\n",
        "    return cond\n",
        "\n",
        "def get_sentences(req, df):\n",
        "    conditions = []\n",
        "    for i, w in enumerate(req.split()):\n",
        "        conditions.append(make_condition(w, i+1))\n",
        "    condition = ' and '.join(conditions)\n",
        "    \n",
        "    print(condition)\n",
        "    sent_ids = fix_ids(' '.join(df.query(condition)['Sent_ids'].values.tolist()))\n",
        "    sentences = sent_df.loc[sent_ids]\n",
        "    \n",
        "    return sentences"
      ],
      "execution_count": 69,
      "outputs": []
    },
    {
      "cell_type": "code",
      "metadata": {
        "id": "l2GpTF8drPWM"
      },
      "source": [
        "def get_answer(req):\n",
        "    if len(req.split()) == 1:\n",
        "        res = get_sentences(req, uni_df)\n",
        "    elif len(req.split()) == 2:\n",
        "        res = get_sentences(req, bi_df)\n",
        "    elif len(req.split()) == 3:\n",
        "        res = get_sentences(req, tri_df)\n",
        "    else:\n",
        "        print('Запрос в неправильном формате.')\n",
        "        \n",
        "    return res"
      ],
      "execution_count": 63,
      "outputs": []
    },
    {
      "cell_type": "code",
      "metadata": {
        "id": "K5u1r6NTrTCc",
        "outputId": "81b74e18-85d3-4f50-f922-3542eef82d43",
        "colab": {
          "base_uri": "https://localhost:8080/",
          "height": 151
        }
      },
      "source": [
        "get_answer('травля+NOUN') "
      ],
      "execution_count": 71,
      "outputs": [
        {
          "output_type": "stream",
          "text": [
            "Token1 == \"травля\" and POS1 == \"NOUN\"\n"
          ],
          "name": "stdout"
        },
        {
          "output_type": "execute_result",
          "data": {
            "text/html": [
              "<div>\n",
              "<style scoped>\n",
              "    .dataframe tbody tr th:only-of-type {\n",
              "        vertical-align: middle;\n",
              "    }\n",
              "\n",
              "    .dataframe tbody tr th {\n",
              "        vertical-align: top;\n",
              "    }\n",
              "\n",
              "    .dataframe thead th {\n",
              "        text-align: right;\n",
              "    }\n",
              "</style>\n",
              "<table border=\"1\" class=\"dataframe\">\n",
              "  <thead>\n",
              "    <tr style=\"text-align: right;\">\n",
              "      <th></th>\n",
              "      <th>URL</th>\n",
              "      <th>Date</th>\n",
              "      <th>Sentence</th>\n",
              "      <th>Clean_sentence</th>\n",
              "    </tr>\n",
              "  </thead>\n",
              "  <tbody>\n",
              "    <tr>\n",
              "      <th>1500</th>\n",
              "      <td>https://vk.com/public46661081?w=wall-46661081_...</td>\n",
              "      <td>2020-10-13 14:30:03</td>\n",
              "      <td>Дальше - травля, мою парадную стали расписыват...</td>\n",
              "      <td>дальше  травля мою парадную стали расписывать ...</td>\n",
              "    </tr>\n",
              "    <tr>\n",
              "      <th>90</th>\n",
              "      <td>https://vk.com/public182023900?w=wall-18202390...</td>\n",
              "      <td>2020-07-01 15:49:00</td>\n",
              "      <td>Склоки, распускание слухов и травля утомляют.</td>\n",
              "      <td>склоки распускание слухов и травля утомляют</td>\n",
              "    </tr>\n",
              "    <tr>\n",
              "      <th>202</th>\n",
              "      <td>https://vk.com/public182023900?w=wall-18202390...</td>\n",
              "      <td>2020-04-20 16:33:18</td>\n",
              "      <td>С этой дружелюбной статьи, кстати, начались тр...</td>\n",
              "      <td>с этой дружелюбной статьи кстати начались трав...</td>\n",
              "    </tr>\n",
              "  </tbody>\n",
              "</table>\n",
              "</div>"
            ],
            "text/plain": [
              "                                                    URL  ...                                     Clean_sentence\n",
              "1500  https://vk.com/public46661081?w=wall-46661081_...  ...  дальше  травля мою парадную стали расписывать ...\n",
              "90    https://vk.com/public182023900?w=wall-18202390...  ...        склоки распускание слухов и травля утомляют\n",
              "202   https://vk.com/public182023900?w=wall-18202390...  ...  с этой дружелюбной статьи кстати начались трав...\n",
              "\n",
              "[3 rows x 4 columns]"
            ]
          },
          "metadata": {
            "tags": []
          },
          "execution_count": 71
        }
      ]
    }
  ]
}